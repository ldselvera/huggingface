{
 "cells": [
  {
   "cell_type": "code",
   "execution_count": null,
   "id": "4f1d8c9a-78f5-4de2-ac57-64b24cc7ec08",
   "metadata": {},
   "outputs": [],
   "source": [
    "# !pip install datasets==2.19.0 transformers==4.41.1"
   ]
  },
  {
   "cell_type": "code",
   "execution_count": 1,
   "id": "773de438-8e88-453a-9f04-58f842944959",
   "metadata": {},
   "outputs": [],
   "source": [
    "import transformers\n",
    "import datasets\n",
    "\n",
    "from datasets import load_dataset\n",
    "from transformers import pipeline"
   ]
  },
  {
   "cell_type": "code",
   "execution_count": 2,
   "id": "8bf469e1-b21b-482c-a6fc-db51e9e2a41e",
   "metadata": {},
   "outputs": [],
   "source": [
    "reviews = load_dataset('rotten_tomatoes', cache_dir='rotten_tomates_data')"
   ]
  },
  {
   "cell_type": "code",
   "execution_count": 7,
   "id": "fe42866f-dd2b-49fd-bdaf-1c6b4086f05c",
   "metadata": {},
   "outputs": [
    {
     "data": {
      "text/plain": [
       "datasets.dataset_dict.DatasetDict"
      ]
     },
     "execution_count": 7,
     "metadata": {},
     "output_type": "execute_result"
    }
   ],
   "source": [
    "type(reviews)"
   ]
  },
  {
   "cell_type": "code",
   "execution_count": 8,
   "id": "b82c4913-abf9-4245-a6a4-a10bf98c28c6",
   "metadata": {},
   "outputs": [
    {
     "data": {
      "text/plain": [
       "DatasetDict({\n",
       "    train: Dataset({\n",
       "        features: ['text', 'label'],\n",
       "        num_rows: 8530\n",
       "    })\n",
       "    validation: Dataset({\n",
       "        features: ['text', 'label'],\n",
       "        num_rows: 1066\n",
       "    })\n",
       "    test: Dataset({\n",
       "        features: ['text', 'label'],\n",
       "        num_rows: 1066\n",
       "    })\n",
       "})"
      ]
     },
     "execution_count": 8,
     "metadata": {},
     "output_type": "execute_result"
    }
   ],
   "source": [
    "reviews"
   ]
  },
  {
   "cell_type": "code",
   "execution_count": 9,
   "id": "e8f708f4-4bb2-41ba-8d05-1ec77084ee43",
   "metadata": {},
   "outputs": [
    {
     "data": {
      "text/plain": [
       "Dataset({\n",
       "    features: ['text', 'label'],\n",
       "    num_rows: 8530\n",
       "})"
      ]
     },
     "execution_count": 9,
     "metadata": {},
     "output_type": "execute_result"
    }
   ],
   "source": [
    "reviews['train']"
   ]
  },
  {
   "cell_type": "code",
   "execution_count": 11,
   "id": "fcaafd6a-cd5a-4c1f-bee3-51197ffd01cb",
   "metadata": {},
   "outputs": [
    {
     "data": {
      "text/plain": [
       "'lovingly photographed in the manner of a golden book sprung to life , stuart little 2 manages sweetness largely without stickiness .'"
      ]
     },
     "execution_count": 11,
     "metadata": {},
     "output_type": "execute_result"
    }
   ],
   "source": [
    "# help(reviews['train'])\n",
    "reviews['test'].to_pandas()['text'][0]"
   ]
  },
  {
   "cell_type": "code",
   "execution_count": null,
   "id": "f4f08b6c-5fce-40a1-8a53-0fda38ef9405",
   "metadata": {},
   "outputs": [],
   "source": [
    "classifier = pipeline('sentiment-analysis')"
   ]
  },
  {
   "cell_type": "code",
   "execution_count": 6,
   "id": "93f5a48f-8c81-4c49-96e4-80fd70c514b2",
   "metadata": {},
   "outputs": [],
   "source": [
    "def score(review_text):\n",
    "    return classifier(review_text)[0]['label']"
   ]
  },
  {
   "cell_type": "code",
   "execution_count": 6,
   "id": "8bc0b853-1afd-49df-a95d-0d8b07be65e7",
   "metadata": {},
   "outputs": [
    {
     "data": {
      "text/plain": [
       "[{'label': 'POSITIVE', 'score': 0.999869704246521}]"
      ]
     },
     "execution_count": 6,
     "metadata": {},
     "output_type": "execute_result"
    }
   ],
   "source": [
    "classifier(\"this was a great movie!\")"
   ]
  },
  {
   "cell_type": "code",
   "execution_count": 3,
   "id": "18abdffd-cca7-421f-96de-198c3825413a",
   "metadata": {},
   "outputs": [],
   "source": [
    "test_df = reviews['test'].to_pandas()"
   ]
  },
  {
   "cell_type": "code",
   "execution_count": 7,
   "id": "fdb352fd-73a2-433e-b8a7-41d1ead15f0e",
   "metadata": {},
   "outputs": [],
   "source": [
    "test_df['model_prediction'] = test_df['text'].apply(score)"
   ]
  },
  {
   "cell_type": "code",
   "execution_count": 8,
   "id": "0c60be6c-2cbb-41a9-8c6d-666ae34a1808",
   "metadata": {},
   "outputs": [
    {
     "data": {
      "text/html": [
       "<div>\n",
       "<style scoped>\n",
       "    .dataframe tbody tr th:only-of-type {\n",
       "        vertical-align: middle;\n",
       "    }\n",
       "\n",
       "    .dataframe tbody tr th {\n",
       "        vertical-align: top;\n",
       "    }\n",
       "\n",
       "    .dataframe thead th {\n",
       "        text-align: right;\n",
       "    }\n",
       "</style>\n",
       "<table border=\"1\" class=\"dataframe\">\n",
       "  <thead>\n",
       "    <tr style=\"text-align: right;\">\n",
       "      <th></th>\n",
       "      <th>text</th>\n",
       "      <th>label</th>\n",
       "      <th>model_prediction</th>\n",
       "    </tr>\n",
       "  </thead>\n",
       "  <tbody>\n",
       "    <tr>\n",
       "      <th>0</th>\n",
       "      <td>lovingly photographed in the manner of a golde...</td>\n",
       "      <td>1</td>\n",
       "      <td>POSITIVE</td>\n",
       "    </tr>\n",
       "    <tr>\n",
       "      <th>1</th>\n",
       "      <td>consistently clever and suspenseful .</td>\n",
       "      <td>1</td>\n",
       "      <td>POSITIVE</td>\n",
       "    </tr>\n",
       "    <tr>\n",
       "      <th>2</th>\n",
       "      <td>it's like a \" big chill \" reunion of the baade...</td>\n",
       "      <td>1</td>\n",
       "      <td>NEGATIVE</td>\n",
       "    </tr>\n",
       "    <tr>\n",
       "      <th>3</th>\n",
       "      <td>the story gives ample opportunity for large-sc...</td>\n",
       "      <td>1</td>\n",
       "      <td>POSITIVE</td>\n",
       "    </tr>\n",
       "    <tr>\n",
       "      <th>4</th>\n",
       "      <td>red dragon \" never cuts corners .</td>\n",
       "      <td>1</td>\n",
       "      <td>POSITIVE</td>\n",
       "    </tr>\n",
       "    <tr>\n",
       "      <th>...</th>\n",
       "      <td>...</td>\n",
       "      <td>...</td>\n",
       "      <td>...</td>\n",
       "    </tr>\n",
       "    <tr>\n",
       "      <th>1061</th>\n",
       "      <td>a terrible movie that some people will neverth...</td>\n",
       "      <td>0</td>\n",
       "      <td>NEGATIVE</td>\n",
       "    </tr>\n",
       "    <tr>\n",
       "      <th>1062</th>\n",
       "      <td>there are many definitions of 'time waster' bu...</td>\n",
       "      <td>0</td>\n",
       "      <td>NEGATIVE</td>\n",
       "    </tr>\n",
       "    <tr>\n",
       "      <th>1063</th>\n",
       "      <td>as it stands , crocodile hunter has the hurrie...</td>\n",
       "      <td>0</td>\n",
       "      <td>NEGATIVE</td>\n",
       "    </tr>\n",
       "    <tr>\n",
       "      <th>1064</th>\n",
       "      <td>the thing looks like a made-for-home-video qui...</td>\n",
       "      <td>0</td>\n",
       "      <td>NEGATIVE</td>\n",
       "    </tr>\n",
       "    <tr>\n",
       "      <th>1065</th>\n",
       "      <td>enigma is well-made , but it's just too dry an...</td>\n",
       "      <td>0</td>\n",
       "      <td>NEGATIVE</td>\n",
       "    </tr>\n",
       "  </tbody>\n",
       "</table>\n",
       "<p>1066 rows × 3 columns</p>\n",
       "</div>"
      ],
      "text/plain": [
       "                                                   text  label  \\\n",
       "0     lovingly photographed in the manner of a golde...      1   \n",
       "1                 consistently clever and suspenseful .      1   \n",
       "2     it's like a \" big chill \" reunion of the baade...      1   \n",
       "3     the story gives ample opportunity for large-sc...      1   \n",
       "4                     red dragon \" never cuts corners .      1   \n",
       "...                                                 ...    ...   \n",
       "1061  a terrible movie that some people will neverth...      0   \n",
       "1062  there are many definitions of 'time waster' bu...      0   \n",
       "1063  as it stands , crocodile hunter has the hurrie...      0   \n",
       "1064  the thing looks like a made-for-home-video qui...      0   \n",
       "1065  enigma is well-made , but it's just too dry an...      0   \n",
       "\n",
       "     model_prediction  \n",
       "0            POSITIVE  \n",
       "1            POSITIVE  \n",
       "2            NEGATIVE  \n",
       "3            POSITIVE  \n",
       "4            POSITIVE  \n",
       "...               ...  \n",
       "1061         NEGATIVE  \n",
       "1062         NEGATIVE  \n",
       "1063         NEGATIVE  \n",
       "1064         NEGATIVE  \n",
       "1065         NEGATIVE  \n",
       "\n",
       "[1066 rows x 3 columns]"
      ]
     },
     "execution_count": 8,
     "metadata": {},
     "output_type": "execute_result"
    }
   ],
   "source": [
    "test_df"
   ]
  },
  {
   "cell_type": "code",
   "execution_count": 9,
   "id": "99da6521-829e-4b17-80ef-e0e45b21ed52",
   "metadata": {},
   "outputs": [
    {
     "data": {
      "text/plain": [
       "text                it's like a \" big chill \" reunion of the baade...\n",
       "label                                                               1\n",
       "model_prediction                                             NEGATIVE\n",
       "Name: 2, dtype: object"
      ]
     },
     "execution_count": 9,
     "metadata": {},
     "output_type": "execute_result"
    }
   ],
   "source": [
    "test_df.iloc[2]"
   ]
  },
  {
   "cell_type": "code",
   "execution_count": 10,
   "id": "b63fddd5-0381-4ecb-b3cf-7c008e7fec03",
   "metadata": {},
   "outputs": [
    {
     "data": {
      "text/plain": [
       "'it\\'s like a \" big chill \" reunion of the baader-meinhof gang , only these guys are more harmless pranksters than political activists .'"
      ]
     },
     "execution_count": 10,
     "metadata": {},
     "output_type": "execute_result"
    }
   ],
   "source": [
    "test_df.iloc[2]['text']"
   ]
  },
  {
   "cell_type": "code",
   "execution_count": null,
   "id": "9ea72664-92a7-4786-8dea-d20704575098",
   "metadata": {},
   "outputs": [],
   "source": []
  }
 ],
 "metadata": {
  "kernelspec": {
   "display_name": "Python 3 (ipykernel)",
   "language": "python",
   "name": "python3"
  },
  "language_info": {
   "codemirror_mode": {
    "name": "ipython",
    "version": 3
   },
   "file_extension": ".py",
   "mimetype": "text/x-python",
   "name": "python",
   "nbconvert_exporter": "python",
   "pygments_lexer": "ipython3",
   "version": "3.11.7"
  }
 },
 "nbformat": 4,
 "nbformat_minor": 5
}
