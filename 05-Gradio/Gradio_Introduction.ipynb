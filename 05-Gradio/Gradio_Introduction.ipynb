{
  "nbformat": 4,
  "nbformat_minor": 0,
  "metadata": {
    "colab": {
      "provenance": [],
      "authorship_tag": "ABX9TyMSbSlztXhsqkKYBnhS47h+",
      "include_colab_link": true
    },
    "kernelspec": {
      "name": "python3",
      "display_name": "Python 3"
    },
    "language_info": {
      "name": "python"
    }
  },
  "cells": [
    {
      "cell_type": "markdown",
      "metadata": {
        "id": "view-in-github",
        "colab_type": "text"
      },
      "source": [
        "<a href=\"https://colab.research.google.com/github/ldselvera/huggingface/blob/main/05-Gradio/Gradio_Introduction.ipynb\" target=\"_parent\"><img src=\"https://colab.research.google.com/assets/colab-badge.svg\" alt=\"Open In Colab\"/></a>"
      ]
    },
    {
      "cell_type": "code",
      "execution_count": 3,
      "metadata": {
        "id": "405sBKMmUii8"
      },
      "outputs": [],
      "source": [
        "# !pip install gradio"
      ]
    },
    {
      "cell_type": "code",
      "source": [
        "def add_number(x, y):\n",
        "    return x + y"
      ],
      "metadata": {
        "id": "rHGGofi0UtZC"
      },
      "execution_count": 4,
      "outputs": []
    },
    {
      "cell_type": "code",
      "source": [
        "import gradio as gr"
      ],
      "metadata": {
        "id": "0jQ4ha3iVH5N"
      },
      "execution_count": null,
      "outputs": []
    },
    {
      "cell_type": "code",
      "source": [
        "# iface = gr.Interface(add_number, [gr.Number(label=\"x\"), gr.Number(label=\"y\")], \"text\")\n",
        "\n",
        "iface = gr.Interface(add_number,\n",
        "                     inputs=[gr.Number(label=\"x\"), gr.Number(label=\"y\")],\n",
        "                     outputs=gr.Number(label=\"result\"))\n",
        "iface.launch()"
      ],
      "metadata": {
        "colab": {
          "base_uri": "https://localhost:8080/",
          "height": 645
        },
        "id": "V_ib1xXgU0eC",
        "outputId": "2698eb86-1d19-4b73-c946-49512e476e1c"
      },
      "execution_count": 6,
      "outputs": [
        {
          "output_type": "stream",
          "name": "stdout",
          "text": [
            "Setting queue=True in a Colab notebook requires sharing enabled. Setting `share=True` (you can turn this off by setting `share=False` in `launch()` explicitly).\n",
            "\n",
            "Colab notebook detected. To show errors in colab notebook, set debug=True in launch()\n",
            "Running on public URL: https://85e8de33c3f90f3090.gradio.live\n",
            "\n",
            "This share link expires in 72 hours. For free permanent hosting and GPU upgrades, run `gradio deploy` from Terminal to deploy to Spaces (https://huggingface.co/spaces)\n"
          ]
        },
        {
          "output_type": "display_data",
          "data": {
            "text/plain": [
              "<IPython.core.display.HTML object>"
            ],
            "text/html": [
              "<div><iframe src=\"https://85e8de33c3f90f3090.gradio.live\" width=\"100%\" height=\"500\" allow=\"autoplay; camera; microphone; clipboard-read; clipboard-write;\" frameborder=\"0\" allowfullscreen></iframe></div>"
            ]
          },
          "metadata": {}
        },
        {
          "output_type": "execute_result",
          "data": {
            "text/plain": []
          },
          "metadata": {},
          "execution_count": 6
        }
      ]
    },
    {
      "cell_type": "code",
      "source": [
        "def reverse_text(input_text):\n",
        "    return input_text[::-1]"
      ],
      "metadata": {
        "id": "1NmM1CM3Vxle"
      },
      "execution_count": 7,
      "outputs": []
    },
    {
      "cell_type": "code",
      "source": [
        "iface = gr.Interface(reverse_text,\n",
        "                     inputs=gr.Text(),\n",
        "                     outputs=gr.Text())\n",
        "iface.launch()"
      ],
      "metadata": {
        "colab": {
          "base_uri": "https://localhost:8080/",
          "height": 645
        },
        "id": "_2TT-oRkW30T",
        "outputId": "84c62489-105d-4030-a1a5-aa7f63bb6549"
      },
      "execution_count": 8,
      "outputs": [
        {
          "output_type": "stream",
          "name": "stdout",
          "text": [
            "Setting queue=True in a Colab notebook requires sharing enabled. Setting `share=True` (you can turn this off by setting `share=False` in `launch()` explicitly).\n",
            "\n",
            "Colab notebook detected. To show errors in colab notebook, set debug=True in launch()\n",
            "Running on public URL: https://700199f9cbe66a6784.gradio.live\n",
            "\n",
            "This share link expires in 72 hours. For free permanent hosting and GPU upgrades, run `gradio deploy` from Terminal to deploy to Spaces (https://huggingface.co/spaces)\n"
          ]
        },
        {
          "output_type": "display_data",
          "data": {
            "text/plain": [
              "<IPython.core.display.HTML object>"
            ],
            "text/html": [
              "<div><iframe src=\"https://700199f9cbe66a6784.gradio.live\" width=\"100%\" height=\"500\" allow=\"autoplay; camera; microphone; clipboard-read; clipboard-write;\" frameborder=\"0\" allowfullscreen></iframe></div>"
            ]
          },
          "metadata": {}
        },
        {
          "output_type": "execute_result",
          "data": {
            "text/plain": []
          },
          "metadata": {},
          "execution_count": 8
        }
      ]
    },
    {
      "cell_type": "code",
      "source": [
        "def slider_example(value):\n",
        "    return f\"Slider current value is: {value}\""
      ],
      "metadata": {
        "id": "_ZlqJRuaXCMW"
      },
      "execution_count": 9,
      "outputs": []
    },
    {
      "cell_type": "code",
      "source": [
        "iface = gr.Interface(slider_example,\n",
        "                     inputs=gr.Slider(minimum=0, maximum=100, step=2),\n",
        "                     outputs=gr.Text())\n",
        "iface.launch()"
      ],
      "metadata": {
        "colab": {
          "base_uri": "https://localhost:8080/",
          "height": 645
        },
        "id": "wmCeQWqAXL4g",
        "outputId": "b1e4c8d8-10d1-45ce-a036-14a109f3385b"
      },
      "execution_count": 11,
      "outputs": [
        {
          "output_type": "stream",
          "name": "stdout",
          "text": [
            "Setting queue=True in a Colab notebook requires sharing enabled. Setting `share=True` (you can turn this off by setting `share=False` in `launch()` explicitly).\n",
            "\n",
            "Colab notebook detected. To show errors in colab notebook, set debug=True in launch()\n",
            "Running on public URL: https://477126d57a945c4dd6.gradio.live\n",
            "\n",
            "This share link expires in 72 hours. For free permanent hosting and GPU upgrades, run `gradio deploy` from Terminal to deploy to Spaces (https://huggingface.co/spaces)\n"
          ]
        },
        {
          "output_type": "display_data",
          "data": {
            "text/plain": [
              "<IPython.core.display.HTML object>"
            ],
            "text/html": [
              "<div><iframe src=\"https://477126d57a945c4dd6.gradio.live\" width=\"100%\" height=\"500\" allow=\"autoplay; camera; microphone; clipboard-read; clipboard-write;\" frameborder=\"0\" allowfullscreen></iframe></div>"
            ]
          },
          "metadata": {}
        },
        {
          "output_type": "execute_result",
          "data": {
            "text/plain": []
          },
          "metadata": {},
          "execution_count": 11
        }
      ]
    },
    {
      "cell_type": "code",
      "source": [
        "def dropdown_example(value):\n",
        "    return f\"Dropdown current value is: {value}\""
      ],
      "metadata": {
        "id": "qH3-9Zq6XVcx"
      },
      "execution_count": 12,
      "outputs": []
    },
    {
      "cell_type": "code",
      "source": [
        "options = ['A', 'B', 'C']\n",
        "iface = gr.Interface(fn=dropdown_example,\n",
        "                     inputs=gr.Dropdown(choices=options),\n",
        "                     outputs=gr.Text())\n",
        "iface.launch()"
      ],
      "metadata": {
        "colab": {
          "base_uri": "https://localhost:8080/",
          "height": 645
        },
        "id": "9KwfgnTQXjPn",
        "outputId": "70b369eb-97b8-4da9-9a89-f10274ecef36"
      },
      "execution_count": 13,
      "outputs": [
        {
          "output_type": "stream",
          "name": "stdout",
          "text": [
            "Setting queue=True in a Colab notebook requires sharing enabled. Setting `share=True` (you can turn this off by setting `share=False` in `launch()` explicitly).\n",
            "\n",
            "Colab notebook detected. To show errors in colab notebook, set debug=True in launch()\n",
            "Running on public URL: https://6a7ec68996e71243cc.gradio.live\n",
            "\n",
            "This share link expires in 72 hours. For free permanent hosting and GPU upgrades, run `gradio deploy` from Terminal to deploy to Spaces (https://huggingface.co/spaces)\n"
          ]
        },
        {
          "output_type": "display_data",
          "data": {
            "text/plain": [
              "<IPython.core.display.HTML object>"
            ],
            "text/html": [
              "<div><iframe src=\"https://6a7ec68996e71243cc.gradio.live\" width=\"100%\" height=\"500\" allow=\"autoplay; camera; microphone; clipboard-read; clipboard-write;\" frameborder=\"0\" allowfullscreen></iframe></div>"
            ]
          },
          "metadata": {}
        },
        {
          "output_type": "execute_result",
          "data": {
            "text/plain": []
          },
          "metadata": {},
          "execution_count": 13
        }
      ]
    },
    {
      "cell_type": "code",
      "source": [
        "from PIL import Image\n",
        "import numpy as np\n",
        "\n",
        "def to_grayscale(input_image):\n",
        "    grayscale_image = np.mean(input_image, axis=2, keepdims=True)\n",
        "    grayscale_image = np.tile(grayscale_image, (1, 1, 3))\n",
        "    return grayscale_image.astype(np.uint8)\n",
        "\n",
        "iface = gr.Interface(fn=to_grayscale, inputs=gr.Image(), outputs=gr.Image())\n",
        "iface.launch()"
      ],
      "metadata": {
        "colab": {
          "base_uri": "https://localhost:8080/",
          "height": 645
        },
        "id": "ZH4z8QkOX1p3",
        "outputId": "163d7c20-40b4-487e-d94d-3c5e64f91709"
      },
      "execution_count": 16,
      "outputs": [
        {
          "output_type": "stream",
          "name": "stdout",
          "text": [
            "Setting queue=True in a Colab notebook requires sharing enabled. Setting `share=True` (you can turn this off by setting `share=False` in `launch()` explicitly).\n",
            "\n",
            "Colab notebook detected. To show errors in colab notebook, set debug=True in launch()\n",
            "Running on public URL: https://75d9dadddaa1299b3b.gradio.live\n",
            "\n",
            "This share link expires in 72 hours. For free permanent hosting and GPU upgrades, run `gradio deploy` from Terminal to deploy to Spaces (https://huggingface.co/spaces)\n"
          ]
        },
        {
          "output_type": "display_data",
          "data": {
            "text/plain": [
              "<IPython.core.display.HTML object>"
            ],
            "text/html": [
              "<div><iframe src=\"https://75d9dadddaa1299b3b.gradio.live\" width=\"100%\" height=\"500\" allow=\"autoplay; camera; microphone; clipboard-read; clipboard-write;\" frameborder=\"0\" allowfullscreen></iframe></div>"
            ]
          },
          "metadata": {}
        },
        {
          "output_type": "execute_result",
          "data": {
            "text/plain": []
          },
          "metadata": {},
          "execution_count": 16
        }
      ]
    },
    {
      "cell_type": "code",
      "source": [
        "def number_details(number):\n",
        "    details = {\n",
        "        \"original\": number,\n",
        "        \"squared\": number ** 2,\n",
        "        \"sqrt\": number ** 0.5,\n",
        "        \"is_even\": number % 2 == 0\n",
        "    }\n",
        "    return details\n",
        "\n",
        "iface = gr.Interface(fn=number_details, inputs=gr.Number(), outputs=gr.Json())\n",
        "iface.launch()"
      ],
      "metadata": {
        "colab": {
          "base_uri": "https://localhost:8080/",
          "height": 645
        },
        "id": "f4dUItK3ZTAC",
        "outputId": "7e115c90-84e4-4a37-9f3c-37a3a14ed929"
      },
      "execution_count": 17,
      "outputs": [
        {
          "output_type": "stream",
          "name": "stdout",
          "text": [
            "Setting queue=True in a Colab notebook requires sharing enabled. Setting `share=True` (you can turn this off by setting `share=False` in `launch()` explicitly).\n",
            "\n",
            "Colab notebook detected. To show errors in colab notebook, set debug=True in launch()\n",
            "Running on public URL: https://baed5c1f7a6f06bd0b.gradio.live\n",
            "\n",
            "This share link expires in 72 hours. For free permanent hosting and GPU upgrades, run `gradio deploy` from Terminal to deploy to Spaces (https://huggingface.co/spaces)\n"
          ]
        },
        {
          "output_type": "display_data",
          "data": {
            "text/plain": [
              "<IPython.core.display.HTML object>"
            ],
            "text/html": [
              "<div><iframe src=\"https://baed5c1f7a6f06bd0b.gradio.live\" width=\"100%\" height=\"500\" allow=\"autoplay; camera; microphone; clipboard-read; clipboard-write;\" frameborder=\"0\" allowfullscreen></iframe></div>"
            ]
          },
          "metadata": {}
        },
        {
          "output_type": "execute_result",
          "data": {
            "text/plain": []
          },
          "metadata": {},
          "execution_count": 17
        }
      ]
    },
    {
      "cell_type": "code",
      "source": [
        "def classify_number(number):\n",
        "    if number > 0:\n",
        "        return \"Positive\"\n",
        "    elif number < 0:\n",
        "        return \"Negative\"\n",
        "    else:\n",
        "        return \"Zero\"\n",
        "\n",
        "iface = gr.Interface(fn=classify_number, inputs=gr.Number(), outputs=gr.Label())\n",
        "iface.launch()"
      ],
      "metadata": {
        "colab": {
          "base_uri": "https://localhost:8080/",
          "height": 645
        },
        "id": "Tj9215MqZcax",
        "outputId": "4e1cac55-bc9d-4367-97d1-6aa4c96cde04"
      },
      "execution_count": 18,
      "outputs": [
        {
          "output_type": "stream",
          "name": "stdout",
          "text": [
            "Setting queue=True in a Colab notebook requires sharing enabled. Setting `share=True` (you can turn this off by setting `share=False` in `launch()` explicitly).\n",
            "\n",
            "Colab notebook detected. To show errors in colab notebook, set debug=True in launch()\n",
            "Running on public URL: https://99da94eeb918b23d5a.gradio.live\n",
            "\n",
            "This share link expires in 72 hours. For free permanent hosting and GPU upgrades, run `gradio deploy` from Terminal to deploy to Spaces (https://huggingface.co/spaces)\n"
          ]
        },
        {
          "output_type": "display_data",
          "data": {
            "text/plain": [
              "<IPython.core.display.HTML object>"
            ],
            "text/html": [
              "<div><iframe src=\"https://99da94eeb918b23d5a.gradio.live\" width=\"100%\" height=\"500\" allow=\"autoplay; camera; microphone; clipboard-read; clipboard-write;\" frameborder=\"0\" allowfullscreen></iframe></div>"
            ]
          },
          "metadata": {}
        },
        {
          "output_type": "execute_result",
          "data": {
            "text/plain": []
          },
          "metadata": {},
          "execution_count": 18
        }
      ]
    },
    {
      "cell_type": "code",
      "source": [
        "help(gr.Dropdown)"
      ],
      "metadata": {
        "colab": {
          "base_uri": "https://localhost:8080/"
        },
        "id": "m_lOmoasXup0",
        "outputId": "bef7fef0-3fdb-4483-cff2-56ed0095879d"
      },
      "execution_count": 15,
      "outputs": [
        {
          "output_type": "stream",
          "name": "stdout",
          "text": [
            "Help on class Dropdown in module gradio.components.dropdown:\n",
            "\n",
            "class Dropdown(gradio.components.base.FormComponent)\n",
            " |  Dropdown(choices: 'Sequence[str | int | float | tuple[str, str | int | float]] | None' = None, *, value: 'str | int | float | Sequence[str | int | float] | Callable | None' = None, type: \"Literal['value', 'index']\" = 'value', multiselect: 'bool | None' = None, allow_custom_value: 'bool' = False, max_choices: 'int | None' = None, filterable: 'bool' = True, label: 'str | None' = None, info: 'str | None' = None, every: 'Timer | float | None' = None, inputs: 'Component | Sequence[Component] | set[Component] | None' = None, show_label: 'bool | None' = None, container: 'bool' = True, scale: 'int | None' = None, min_width: 'int' = 160, interactive: 'bool | None' = None, visible: 'bool' = True, elem_id: 'str | None' = None, elem_classes: 'list[str] | str | None' = None, render: 'bool' = True, key: 'int | str | None' = None)\n",
            " |  \n",
            " |  Creates a dropdown of choices from which a single entry or multiple entries can be selected (as an input component) or displayed (as an output component).\n",
            " |  \n",
            " |  Demos: sentence_builder\n",
            " |  \n",
            " |  Method resolution order:\n",
            " |      Dropdown\n",
            " |      gradio.components.base.FormComponent\n",
            " |      gradio.components.base.Component\n",
            " |      gradio.components.base.ComponentBase\n",
            " |      abc.ABC\n",
            " |      gradio.blocks.Block\n",
            " |      builtins.object\n",
            " |  \n",
            " |  Methods defined here:\n",
            " |  \n",
            " |  __init__(self, choices: 'Sequence[str | int | float | tuple[str, str | int | float]] | None' = None, *, value: 'str | int | float | Sequence[str | int | float] | Callable | None' = None, type: \"Literal['value', 'index']\" = 'value', multiselect: 'bool | None' = None, allow_custom_value: 'bool' = False, max_choices: 'int | None' = None, filterable: 'bool' = True, label: 'str | None' = None, info: 'str | None' = None, every: 'Timer | float | None' = None, inputs: 'Component | Sequence[Component] | set[Component] | None' = None, show_label: 'bool | None' = None, container: 'bool' = True, scale: 'int | None' = None, min_width: 'int' = 160, interactive: 'bool | None' = None, visible: 'bool' = True, elem_id: 'str | None' = None, elem_classes: 'list[str] | str | None' = None, render: 'bool' = True, key: 'int | str | None' = None)\n",
            " |      Parameters:\n",
            " |          choices: A list of string options to choose from. An option can also be a tuple of the form (name, value), where name is the displayed name of the dropdown choice and value is the value to be passed to the function, or returned by the function.\n",
            " |          value: default value(s) selected in dropdown. If None, no value is selected by default. If callable, the function will be called whenever the app loads to set the initial value of the component.\n",
            " |          type: Type of value to be returned by component. \"value\" returns the string of the choice selected, \"index\" returns the index of the choice selected.\n",
            " |          multiselect: if True, multiple choices can be selected.\n",
            " |          allow_custom_value: If True, allows user to enter a custom value that is not in the list of choices.\n",
            " |          max_choices: maximum number of choices that can be selected. If None, no limit is enforced.\n",
            " |          filterable: If True, user will be able to type into the dropdown and filter the choices by typing. Can only be set to False if `allow_custom_value` is False.\n",
            " |          label: The label for this component. Appears above the component and is also used as the header if there are a table of examples for this component. If None and used in a `gr.Interface`, the label will be the name of the parameter this component is assigned to.\n",
            " |          info: additional component description.\n",
            " |          every: Continously calls `value` to recalculate it if `value` is a function (has no effect otherwise). Can provide a Timer whose tick resets `value`, or a float that provides the regular interval for the reset Timer.\n",
            " |          inputs: Components that are used as inputs to calculate `value` if `value` is a function (has no effect otherwise). `value` is recalculated any time the inputs change.\n",
            " |          show_label: if True, will display label.\n",
            " |          container: If True, will place the component in a container - providing some extra padding around the border.\n",
            " |          scale: relative size compared to adjacent Components. For example if Components A and B are in a Row, and A has scale=2, and B has scale=1, A will be twice as wide as B. Should be an integer. scale applies in Rows, and to top-level Components in Blocks where fill_height=True.\n",
            " |          min_width: minimum pixel width, will wrap if not sufficient screen space to satisfy this value. If a certain scale value results in this Component being narrower than min_width, the min_width parameter will be respected first.\n",
            " |          interactive: if True, choices in this dropdown will be selectable; if False, selection will be disabled. If not provided, this is inferred based on whether the component is used as an input or output.\n",
            " |          visible: If False, component will be hidden.\n",
            " |          elem_id: An optional string that is assigned as the id of this component in the HTML DOM. Can be used for targeting CSS styles.\n",
            " |          elem_classes: An optional list of strings that are assigned as the classes of this component in the HTML DOM. Can be used for targeting CSS styles.\n",
            " |          render: If False, component will not be rendered in the Blocks context. Should be used if the intention is to assign event listeners now but render the component later.\n",
            " |  \n",
            " |  api_info(self) -> 'dict[str, Any]'\n",
            " |      The typing information for this component as a dictionary whose values are a list of 2 strings: [Python type, language-agnostic description].\n",
            " |      Keys of the dictionary are: raw_input, raw_output, serialized_input, serialized_output\n",
            " |  \n",
            " |  blur = event_trigger(block: 'Block | None', fn: \"Callable | None | Literal['decorator']\" = 'decorator', inputs: 'Component | BlockContext | Sequence[Component | BlockContext] | AbstractSet[Component | BlockContext] | None' = None, outputs: 'Component | BlockContext | Sequence[Component | BlockContext] | AbstractSet[Component | BlockContext] | None' = None, api_name: 'str | None | Literal[False]' = None, scroll_to_output: 'bool' = False, show_progress: \"Literal['full', 'minimal', 'hidden']\" = 'full', queue: 'bool' = True, batch: 'bool' = False, max_batch_size: 'int' = 4, preprocess: 'bool' = True, postprocess: 'bool' = True, cancels: 'dict[str, Any] | list[dict[str, Any]] | None' = None, every: 'float | None' = None, trigger_mode: \"Literal['once', 'multiple', 'always_last'] | None\" = None, js: 'str | None' = None, concurrency_limit: \"int | None | Literal['default']\" = 'default', concurrency_id: 'str | None' = None, show_api: 'bool' = True) -> 'Dependency'\n",
            " |      This listener is triggered when the Dropdown is unfocused/blurred.\n",
            " |      Parameters:\n",
            " |          fn: the function to call when this event is triggered. Often a machine learning model's prediction function. Each parameter of the function corresponds to one input component, and the function should return a single value or a tuple of values, with each element in the tuple corresponding to one output component.\n",
            " |          inputs: List of gradio.components to use as inputs. If the function takes no inputs, this should be an empty list.\n",
            " |          outputs: List of gradio.components to use as outputs. If the function returns no outputs, this should be an empty list.\n",
            " |          api_name: defines how the endpoint appears in the API docs. Can be a string, None, or False. If set to a string, the endpoint will be exposed in the API docs with the given name. If None (default), the name of the function will be used as the API endpoint. If False, the endpoint will not be exposed in the API docs and downstream apps (including those that `gr.load` this app) will not be able to use this event.\n",
            " |          scroll_to_output: If True, will scroll to output component on completion\n",
            " |          show_progress: how to show the progress animation while event is running: \"full\" shows a spinner which covers the output component area as well as a runtime display in the upper right corner, \"minimal\" only shows the runtime display, \"hidden\" shows no progress animation at all\n",
            " |          queue: If True, will place the request on the queue, if the queue has been enabled. If False, will not put this event on the queue, even if the queue has been enabled. If None, will use the queue setting of the gradio app.\n",
            " |          batch: If True, then the function should process a batch of inputs, meaning that it should accept a list of input values for each parameter. The lists should be of equal length (and be up to length `max_batch_size`). The function is then *required* to return a tuple of lists (even if there is only 1 output component), with each list in the tuple corresponding to one output component.\n",
            " |          max_batch_size: Maximum number of inputs to batch together if this is called from the queue (only relevant if batch=True)\n",
            " |          preprocess: If False, will not run preprocessing of component data before running 'fn' (e.g. leaving it as a base64 string if this method is called with the `Image` component).\n",
            " |          postprocess: If False, will not run postprocessing of component data before returning 'fn' output to the browser.\n",
            " |          cancels: A list of other events to cancel when this listener is triggered. For example, setting cancels=[click_event] will cancel the click_event, where click_event is the return value of another components .click method. Functions that have not yet run (or generators that are iterating) will be cancelled, but functions that are currently running will be allowed to finish.\n",
            " |          every: Will be deprecated in favor of gr.Timer. Run this event 'every' number of seconds while the client connection is open. Interpreted in seconds.\n",
            " |          trigger_mode: If \"once\" (default for all events except `.change()`) would not allow any submissions while an event is pending. If set to \"multiple\", unlimited submissions are allowed while pending, and \"always_last\" (default for `.change()` and `.key_up()` events) would allow a second submission after the pending event is complete.\n",
            " |          js: Optional frontend js method to run before running 'fn'. Input arguments for js method are values of 'inputs' and 'outputs', return should be a list of values for output components.\n",
            " |          concurrency_limit: If set, this is the maximum number of this event that can be running simultaneously. Can be set to None to mean no concurrency_limit (any number of this event can be running simultaneously). Set to \"default\" to use the default concurrency limit (defined by the `default_concurrency_limit` parameter in `Blocks.queue()`, which itself is 1 by default).\n",
            " |          concurrency_id: If set, this is the id of the concurrency group. Events with the same concurrency_id will be limited by the lowest set concurrency_limit.\n",
            " |          show_api: whether to show this event in the \"view API\" page of the Gradio app, or in the \".view_api()\" method of the Gradio clients. Unlike setting api_name to False, setting show_api to False will still allow downstream apps as well as the Clients to use this event. If fn is None, show_api will automatically be set to False.\n",
            " |  \n",
            " |  change = event_trigger(block: 'Block | None', fn: \"Callable | None | Literal['decorator']\" = 'decorator', inputs: 'Component | BlockContext | Sequence[Component | BlockContext] | AbstractSet[Component | BlockContext] | None' = None, outputs: 'Component | BlockContext | Sequence[Component | BlockContext] | AbstractSet[Component | BlockContext] | None' = None, api_name: 'str | None | Literal[False]' = None, scroll_to_output: 'bool' = False, show_progress: \"Literal['full', 'minimal', 'hidden']\" = 'full', queue: 'bool' = True, batch: 'bool' = False, max_batch_size: 'int' = 4, preprocess: 'bool' = True, postprocess: 'bool' = True, cancels: 'dict[str, Any] | list[dict[str, Any]] | None' = None, every: 'float | None' = None, trigger_mode: \"Literal['once', 'multiple', 'always_last'] | None\" = None, js: 'str | None' = None, concurrency_limit: \"int | None | Literal['default']\" = 'default', concurrency_id: 'str | None' = None, show_api: 'bool' = True) -> 'Dependency'\n",
            " |      Triggered when the value of the Dropdown changes either because of user input (e.g. a user types in a textbox) OR because of a function update (e.g. an image receives a value from the output of an event trigger). See `.input()` for a listener that is only triggered by user input.\n",
            " |      Parameters:\n",
            " |          fn: the function to call when this event is triggered. Often a machine learning model's prediction function. Each parameter of the function corresponds to one input component, and the function should return a single value or a tuple of values, with each element in the tuple corresponding to one output component.\n",
            " |          inputs: List of gradio.components to use as inputs. If the function takes no inputs, this should be an empty list.\n",
            " |          outputs: List of gradio.components to use as outputs. If the function returns no outputs, this should be an empty list.\n",
            " |          api_name: defines how the endpoint appears in the API docs. Can be a string, None, or False. If set to a string, the endpoint will be exposed in the API docs with the given name. If None (default), the name of the function will be used as the API endpoint. If False, the endpoint will not be exposed in the API docs and downstream apps (including those that `gr.load` this app) will not be able to use this event.\n",
            " |          scroll_to_output: If True, will scroll to output component on completion\n",
            " |          show_progress: how to show the progress animation while event is running: \"full\" shows a spinner which covers the output component area as well as a runtime display in the upper right corner, \"minimal\" only shows the runtime display, \"hidden\" shows no progress animation at all\n",
            " |          queue: If True, will place the request on the queue, if the queue has been enabled. If False, will not put this event on the queue, even if the queue has been enabled. If None, will use the queue setting of the gradio app.\n",
            " |          batch: If True, then the function should process a batch of inputs, meaning that it should accept a list of input values for each parameter. The lists should be of equal length (and be up to length `max_batch_size`). The function is then *required* to return a tuple of lists (even if there is only 1 output component), with each list in the tuple corresponding to one output component.\n",
            " |          max_batch_size: Maximum number of inputs to batch together if this is called from the queue (only relevant if batch=True)\n",
            " |          preprocess: If False, will not run preprocessing of component data before running 'fn' (e.g. leaving it as a base64 string if this method is called with the `Image` component).\n",
            " |          postprocess: If False, will not run postprocessing of component data before returning 'fn' output to the browser.\n",
            " |          cancels: A list of other events to cancel when this listener is triggered. For example, setting cancels=[click_event] will cancel the click_event, where click_event is the return value of another components .click method. Functions that have not yet run (or generators that are iterating) will be cancelled, but functions that are currently running will be allowed to finish.\n",
            " |          every: Will be deprecated in favor of gr.Timer. Run this event 'every' number of seconds while the client connection is open. Interpreted in seconds.\n",
            " |          trigger_mode: If \"once\" (default for all events except `.change()`) would not allow any submissions while an event is pending. If set to \"multiple\", unlimited submissions are allowed while pending, and \"always_last\" (default for `.change()` and `.key_up()` events) would allow a second submission after the pending event is complete.\n",
            " |          js: Optional frontend js method to run before running 'fn'. Input arguments for js method are values of 'inputs' and 'outputs', return should be a list of values for output components.\n",
            " |          concurrency_limit: If set, this is the maximum number of this event that can be running simultaneously. Can be set to None to mean no concurrency_limit (any number of this event can be running simultaneously). Set to \"default\" to use the default concurrency limit (defined by the `default_concurrency_limit` parameter in `Blocks.queue()`, which itself is 1 by default).\n",
            " |          concurrency_id: If set, this is the id of the concurrency group. Events with the same concurrency_id will be limited by the lowest set concurrency_limit.\n",
            " |          show_api: whether to show this event in the \"view API\" page of the Gradio app, or in the \".view_api()\" method of the Gradio clients. Unlike setting api_name to False, setting show_api to False will still allow downstream apps as well as the Clients to use this event. If fn is None, show_api will automatically be set to False.\n",
            " |  \n",
            " |  example_payload(self) -> 'Any'\n",
            " |      An example input data for this component, e.g. what is passed to this component's preprocess() method.\n",
            " |      This is used to generate the docs for the View API page for Gradio apps using this component.\n",
            " |  \n",
            " |  example_value(self) -> 'Any'\n",
            " |      An example output data for this component, e.g. what is passed to this component's postprocess() method.\n",
            " |      This is used to generate an example value if this component is used as a template for a custom component.\n",
            " |  \n",
            " |  focus = event_trigger(block: 'Block | None', fn: \"Callable | None | Literal['decorator']\" = 'decorator', inputs: 'Component | BlockContext | Sequence[Component | BlockContext] | AbstractSet[Component | BlockContext] | None' = None, outputs: 'Component | BlockContext | Sequence[Component | BlockContext] | AbstractSet[Component | BlockContext] | None' = None, api_name: 'str | None | Literal[False]' = None, scroll_to_output: 'bool' = False, show_progress: \"Literal['full', 'minimal', 'hidden']\" = 'full', queue: 'bool' = True, batch: 'bool' = False, max_batch_size: 'int' = 4, preprocess: 'bool' = True, postprocess: 'bool' = True, cancels: 'dict[str, Any] | list[dict[str, Any]] | None' = None, every: 'float | None' = None, trigger_mode: \"Literal['once', 'multiple', 'always_last'] | None\" = None, js: 'str | None' = None, concurrency_limit: \"int | None | Literal['default']\" = 'default', concurrency_id: 'str | None' = None, show_api: 'bool' = True) -> 'Dependency'\n",
            " |      This listener is triggered when the Dropdown is focused.\n",
            " |      Parameters:\n",
            " |          fn: the function to call when this event is triggered. Often a machine learning model's prediction function. Each parameter of the function corresponds to one input component, and the function should return a single value or a tuple of values, with each element in the tuple corresponding to one output component.\n",
            " |          inputs: List of gradio.components to use as inputs. If the function takes no inputs, this should be an empty list.\n",
            " |          outputs: List of gradio.components to use as outputs. If the function returns no outputs, this should be an empty list.\n",
            " |          api_name: defines how the endpoint appears in the API docs. Can be a string, None, or False. If set to a string, the endpoint will be exposed in the API docs with the given name. If None (default), the name of the function will be used as the API endpoint. If False, the endpoint will not be exposed in the API docs and downstream apps (including those that `gr.load` this app) will not be able to use this event.\n",
            " |          scroll_to_output: If True, will scroll to output component on completion\n",
            " |          show_progress: how to show the progress animation while event is running: \"full\" shows a spinner which covers the output component area as well as a runtime display in the upper right corner, \"minimal\" only shows the runtime display, \"hidden\" shows no progress animation at all\n",
            " |          queue: If True, will place the request on the queue, if the queue has been enabled. If False, will not put this event on the queue, even if the queue has been enabled. If None, will use the queue setting of the gradio app.\n",
            " |          batch: If True, then the function should process a batch of inputs, meaning that it should accept a list of input values for each parameter. The lists should be of equal length (and be up to length `max_batch_size`). The function is then *required* to return a tuple of lists (even if there is only 1 output component), with each list in the tuple corresponding to one output component.\n",
            " |          max_batch_size: Maximum number of inputs to batch together if this is called from the queue (only relevant if batch=True)\n",
            " |          preprocess: If False, will not run preprocessing of component data before running 'fn' (e.g. leaving it as a base64 string if this method is called with the `Image` component).\n",
            " |          postprocess: If False, will not run postprocessing of component data before returning 'fn' output to the browser.\n",
            " |          cancels: A list of other events to cancel when this listener is triggered. For example, setting cancels=[click_event] will cancel the click_event, where click_event is the return value of another components .click method. Functions that have not yet run (or generators that are iterating) will be cancelled, but functions that are currently running will be allowed to finish.\n",
            " |          every: Will be deprecated in favor of gr.Timer. Run this event 'every' number of seconds while the client connection is open. Interpreted in seconds.\n",
            " |          trigger_mode: If \"once\" (default for all events except `.change()`) would not allow any submissions while an event is pending. If set to \"multiple\", unlimited submissions are allowed while pending, and \"always_last\" (default for `.change()` and `.key_up()` events) would allow a second submission after the pending event is complete.\n",
            " |          js: Optional frontend js method to run before running 'fn'. Input arguments for js method are values of 'inputs' and 'outputs', return should be a list of values for output components.\n",
            " |          concurrency_limit: If set, this is the maximum number of this event that can be running simultaneously. Can be set to None to mean no concurrency_limit (any number of this event can be running simultaneously). Set to \"default\" to use the default concurrency limit (defined by the `default_concurrency_limit` parameter in `Blocks.queue()`, which itself is 1 by default).\n",
            " |          concurrency_id: If set, this is the id of the concurrency group. Events with the same concurrency_id will be limited by the lowest set concurrency_limit.\n",
            " |          show_api: whether to show this event in the \"view API\" page of the Gradio app, or in the \".view_api()\" method of the Gradio clients. Unlike setting api_name to False, setting show_api to False will still allow downstream apps as well as the Clients to use this event. If fn is None, show_api will automatically be set to False.\n",
            " |  \n",
            " |  input = event_trigger(block: 'Block | None', fn: \"Callable | None | Literal['decorator']\" = 'decorator', inputs: 'Component | BlockContext | Sequence[Component | BlockContext] | AbstractSet[Component | BlockContext] | None' = None, outputs: 'Component | BlockContext | Sequence[Component | BlockContext] | AbstractSet[Component | BlockContext] | None' = None, api_name: 'str | None | Literal[False]' = None, scroll_to_output: 'bool' = False, show_progress: \"Literal['full', 'minimal', 'hidden']\" = 'full', queue: 'bool' = True, batch: 'bool' = False, max_batch_size: 'int' = 4, preprocess: 'bool' = True, postprocess: 'bool' = True, cancels: 'dict[str, Any] | list[dict[str, Any]] | None' = None, every: 'float | None' = None, trigger_mode: \"Literal['once', 'multiple', 'always_last'] | None\" = None, js: 'str | None' = None, concurrency_limit: \"int | None | Literal['default']\" = 'default', concurrency_id: 'str | None' = None, show_api: 'bool' = True) -> 'Dependency'\n",
            " |      This listener is triggered when the user changes the value of the Dropdown.\n",
            " |      Parameters:\n",
            " |          fn: the function to call when this event is triggered. Often a machine learning model's prediction function. Each parameter of the function corresponds to one input component, and the function should return a single value or a tuple of values, with each element in the tuple corresponding to one output component.\n",
            " |          inputs: List of gradio.components to use as inputs. If the function takes no inputs, this should be an empty list.\n",
            " |          outputs: List of gradio.components to use as outputs. If the function returns no outputs, this should be an empty list.\n",
            " |          api_name: defines how the endpoint appears in the API docs. Can be a string, None, or False. If set to a string, the endpoint will be exposed in the API docs with the given name. If None (default), the name of the function will be used as the API endpoint. If False, the endpoint will not be exposed in the API docs and downstream apps (including those that `gr.load` this app) will not be able to use this event.\n",
            " |          scroll_to_output: If True, will scroll to output component on completion\n",
            " |          show_progress: how to show the progress animation while event is running: \"full\" shows a spinner which covers the output component area as well as a runtime display in the upper right corner, \"minimal\" only shows the runtime display, \"hidden\" shows no progress animation at all\n",
            " |          queue: If True, will place the request on the queue, if the queue has been enabled. If False, will not put this event on the queue, even if the queue has been enabled. If None, will use the queue setting of the gradio app.\n",
            " |          batch: If True, then the function should process a batch of inputs, meaning that it should accept a list of input values for each parameter. The lists should be of equal length (and be up to length `max_batch_size`). The function is then *required* to return a tuple of lists (even if there is only 1 output component), with each list in the tuple corresponding to one output component.\n",
            " |          max_batch_size: Maximum number of inputs to batch together if this is called from the queue (only relevant if batch=True)\n",
            " |          preprocess: If False, will not run preprocessing of component data before running 'fn' (e.g. leaving it as a base64 string if this method is called with the `Image` component).\n",
            " |          postprocess: If False, will not run postprocessing of component data before returning 'fn' output to the browser.\n",
            " |          cancels: A list of other events to cancel when this listener is triggered. For example, setting cancels=[click_event] will cancel the click_event, where click_event is the return value of another components .click method. Functions that have not yet run (or generators that are iterating) will be cancelled, but functions that are currently running will be allowed to finish.\n",
            " |          every: Will be deprecated in favor of gr.Timer. Run this event 'every' number of seconds while the client connection is open. Interpreted in seconds.\n",
            " |          trigger_mode: If \"once\" (default for all events except `.change()`) would not allow any submissions while an event is pending. If set to \"multiple\", unlimited submissions are allowed while pending, and \"always_last\" (default for `.change()` and `.key_up()` events) would allow a second submission after the pending event is complete.\n",
            " |          js: Optional frontend js method to run before running 'fn'. Input arguments for js method are values of 'inputs' and 'outputs', return should be a list of values for output components.\n",
            " |          concurrency_limit: If set, this is the maximum number of this event that can be running simultaneously. Can be set to None to mean no concurrency_limit (any number of this event can be running simultaneously). Set to \"default\" to use the default concurrency limit (defined by the `default_concurrency_limit` parameter in `Blocks.queue()`, which itself is 1 by default).\n",
            " |          concurrency_id: If set, this is the id of the concurrency group. Events with the same concurrency_id will be limited by the lowest set concurrency_limit.\n",
            " |          show_api: whether to show this event in the \"view API\" page of the Gradio app, or in the \".view_api()\" method of the Gradio clients. Unlike setting api_name to False, setting show_api to False will still allow downstream apps as well as the Clients to use this event. If fn is None, show_api will automatically be set to False.\n",
            " |  \n",
            " |  key_up = event_trigger(block: 'Block | None', fn: \"Callable | None | Literal['decorator']\" = 'decorator', inputs: 'Component | BlockContext | Sequence[Component | BlockContext] | AbstractSet[Component | BlockContext] | None' = None, outputs: 'Component | BlockContext | Sequence[Component | BlockContext] | AbstractSet[Component | BlockContext] | None' = None, api_name: 'str | None | Literal[False]' = None, scroll_to_output: 'bool' = False, show_progress: \"Literal['full', 'minimal', 'hidden']\" = 'full', queue: 'bool' = True, batch: 'bool' = False, max_batch_size: 'int' = 4, preprocess: 'bool' = True, postprocess: 'bool' = True, cancels: 'dict[str, Any] | list[dict[str, Any]] | None' = None, every: 'float | None' = None, trigger_mode: \"Literal['once', 'multiple', 'always_last'] | None\" = None, js: 'str | None' = None, concurrency_limit: \"int | None | Literal['default']\" = 'default', concurrency_id: 'str | None' = None, show_api: 'bool' = True) -> 'Dependency'\n",
            " |      This listener is triggered when the user presses a key while the Dropdown is focused.\n",
            " |      Parameters:\n",
            " |          fn: the function to call when this event is triggered. Often a machine learning model's prediction function. Each parameter of the function corresponds to one input component, and the function should return a single value or a tuple of values, with each element in the tuple corresponding to one output component.\n",
            " |          inputs: List of gradio.components to use as inputs. If the function takes no inputs, this should be an empty list.\n",
            " |          outputs: List of gradio.components to use as outputs. If the function returns no outputs, this should be an empty list.\n",
            " |          api_name: defines how the endpoint appears in the API docs. Can be a string, None, or False. If set to a string, the endpoint will be exposed in the API docs with the given name. If None (default), the name of the function will be used as the API endpoint. If False, the endpoint will not be exposed in the API docs and downstream apps (including those that `gr.load` this app) will not be able to use this event.\n",
            " |          scroll_to_output: If True, will scroll to output component on completion\n",
            " |          show_progress: how to show the progress animation while event is running: \"full\" shows a spinner which covers the output component area as well as a runtime display in the upper right corner, \"minimal\" only shows the runtime display, \"hidden\" shows no progress animation at all\n",
            " |          queue: If True, will place the request on the queue, if the queue has been enabled. If False, will not put this event on the queue, even if the queue has been enabled. If None, will use the queue setting of the gradio app.\n",
            " |          batch: If True, then the function should process a batch of inputs, meaning that it should accept a list of input values for each parameter. The lists should be of equal length (and be up to length `max_batch_size`). The function is then *required* to return a tuple of lists (even if there is only 1 output component), with each list in the tuple corresponding to one output component.\n",
            " |          max_batch_size: Maximum number of inputs to batch together if this is called from the queue (only relevant if batch=True)\n",
            " |          preprocess: If False, will not run preprocessing of component data before running 'fn' (e.g. leaving it as a base64 string if this method is called with the `Image` component).\n",
            " |          postprocess: If False, will not run postprocessing of component data before returning 'fn' output to the browser.\n",
            " |          cancels: A list of other events to cancel when this listener is triggered. For example, setting cancels=[click_event] will cancel the click_event, where click_event is the return value of another components .click method. Functions that have not yet run (or generators that are iterating) will be cancelled, but functions that are currently running will be allowed to finish.\n",
            " |          every: Will be deprecated in favor of gr.Timer. Run this event 'every' number of seconds while the client connection is open. Interpreted in seconds.\n",
            " |          trigger_mode: If \"once\" (default for all events except `.change()`) would not allow any submissions while an event is pending. If set to \"multiple\", unlimited submissions are allowed while pending, and \"always_last\" (default for `.change()` and `.key_up()` events) would allow a second submission after the pending event is complete.\n",
            " |          js: Optional frontend js method to run before running 'fn'. Input arguments for js method are values of 'inputs' and 'outputs', return should be a list of values for output components.\n",
            " |          concurrency_limit: If set, this is the maximum number of this event that can be running simultaneously. Can be set to None to mean no concurrency_limit (any number of this event can be running simultaneously). Set to \"default\" to use the default concurrency limit (defined by the `default_concurrency_limit` parameter in `Blocks.queue()`, which itself is 1 by default).\n",
            " |          concurrency_id: If set, this is the id of the concurrency group. Events with the same concurrency_id will be limited by the lowest set concurrency_limit.\n",
            " |          show_api: whether to show this event in the \"view API\" page of the Gradio app, or in the \".view_api()\" method of the Gradio clients. Unlike setting api_name to False, setting show_api to False will still allow downstream apps as well as the Clients to use this event. If fn is None, show_api will automatically be set to False.\n",
            " |  \n",
            " |  postprocess(self, value: 'str | int | float | list[str | int | float] | None') -> 'str | int | float | list[str | int | float] | None'\n",
            " |      Parameters:\n",
            " |          value: Expects a `str | int | float` corresponding to the value of the dropdown entry to be selected. Or, if `multiselect` is True, expects a `list` of values corresponding to the selected dropdown entries.\n",
            " |      Returns:\n",
            " |          Returns the values of the selected dropdown entry or entries.\n",
            " |  \n",
            " |  preprocess(self, payload: 'str | int | float | list[str | int | float] | None') -> 'str | int | float | list[str | int | float] | list[int | None] | None'\n",
            " |      Parameters:\n",
            " |          payload: the value of the selected dropdown choice(s)\n",
            " |      Returns:\n",
            " |          Passes the value of the selected dropdown choice as a `str | int | float` or its index as an `int` into the function, depending on `type`. Or, if `multiselect` is True, passes the values of the selected dropdown choices as a list of correspoding values/indices instead.\n",
            " |  \n",
            " |  select = event_trigger(block: 'Block | None', fn: \"Callable | None | Literal['decorator']\" = 'decorator', inputs: 'Component | BlockContext | Sequence[Component | BlockContext] | AbstractSet[Component | BlockContext] | None' = None, outputs: 'Component | BlockContext | Sequence[Component | BlockContext] | AbstractSet[Component | BlockContext] | None' = None, api_name: 'str | None | Literal[False]' = None, scroll_to_output: 'bool' = False, show_progress: \"Literal['full', 'minimal', 'hidden']\" = 'full', queue: 'bool' = True, batch: 'bool' = False, max_batch_size: 'int' = 4, preprocess: 'bool' = True, postprocess: 'bool' = True, cancels: 'dict[str, Any] | list[dict[str, Any]] | None' = None, every: 'float | None' = None, trigger_mode: \"Literal['once', 'multiple', 'always_last'] | None\" = None, js: 'str | None' = None, concurrency_limit: \"int | None | Literal['default']\" = 'default', concurrency_id: 'str | None' = None, show_api: 'bool' = True) -> 'Dependency'\n",
            " |      Event listener for when the user selects or deselects the Dropdown. Uses event data gradio.SelectData to carry `value` referring to the label of the Dropdown, and `selected` to refer to state of the Dropdown. See EventData documentation on how to use this event data\n",
            " |      Parameters:\n",
            " |          fn: the function to call when this event is triggered. Often a machine learning model's prediction function. Each parameter of the function corresponds to one input component, and the function should return a single value or a tuple of values, with each element in the tuple corresponding to one output component.\n",
            " |          inputs: List of gradio.components to use as inputs. If the function takes no inputs, this should be an empty list.\n",
            " |          outputs: List of gradio.components to use as outputs. If the function returns no outputs, this should be an empty list.\n",
            " |          api_name: defines how the endpoint appears in the API docs. Can be a string, None, or False. If set to a string, the endpoint will be exposed in the API docs with the given name. If None (default), the name of the function will be used as the API endpoint. If False, the endpoint will not be exposed in the API docs and downstream apps (including those that `gr.load` this app) will not be able to use this event.\n",
            " |          scroll_to_output: If True, will scroll to output component on completion\n",
            " |          show_progress: how to show the progress animation while event is running: \"full\" shows a spinner which covers the output component area as well as a runtime display in the upper right corner, \"minimal\" only shows the runtime display, \"hidden\" shows no progress animation at all\n",
            " |          queue: If True, will place the request on the queue, if the queue has been enabled. If False, will not put this event on the queue, even if the queue has been enabled. If None, will use the queue setting of the gradio app.\n",
            " |          batch: If True, then the function should process a batch of inputs, meaning that it should accept a list of input values for each parameter. The lists should be of equal length (and be up to length `max_batch_size`). The function is then *required* to return a tuple of lists (even if there is only 1 output component), with each list in the tuple corresponding to one output component.\n",
            " |          max_batch_size: Maximum number of inputs to batch together if this is called from the queue (only relevant if batch=True)\n",
            " |          preprocess: If False, will not run preprocessing of component data before running 'fn' (e.g. leaving it as a base64 string if this method is called with the `Image` component).\n",
            " |          postprocess: If False, will not run postprocessing of component data before returning 'fn' output to the browser.\n",
            " |          cancels: A list of other events to cancel when this listener is triggered. For example, setting cancels=[click_event] will cancel the click_event, where click_event is the return value of another components .click method. Functions that have not yet run (or generators that are iterating) will be cancelled, but functions that are currently running will be allowed to finish.\n",
            " |          every: Will be deprecated in favor of gr.Timer. Run this event 'every' number of seconds while the client connection is open. Interpreted in seconds.\n",
            " |          trigger_mode: If \"once\" (default for all events except `.change()`) would not allow any submissions while an event is pending. If set to \"multiple\", unlimited submissions are allowed while pending, and \"always_last\" (default for `.change()` and `.key_up()` events) would allow a second submission after the pending event is complete.\n",
            " |          js: Optional frontend js method to run before running 'fn'. Input arguments for js method are values of 'inputs' and 'outputs', return should be a list of values for output components.\n",
            " |          concurrency_limit: If set, this is the maximum number of this event that can be running simultaneously. Can be set to None to mean no concurrency_limit (any number of this event can be running simultaneously). Set to \"default\" to use the default concurrency limit (defined by the `default_concurrency_limit` parameter in `Blocks.queue()`, which itself is 1 by default).\n",
            " |          concurrency_id: If set, this is the id of the concurrency group. Events with the same concurrency_id will be limited by the lowest set concurrency_limit.\n",
            " |          show_api: whether to show this event in the \"view API\" page of the Gradio app, or in the \".view_api()\" method of the Gradio clients. Unlike setting api_name to False, setting show_api to False will still allow downstream apps as well as the Clients to use this event. If fn is None, show_api will automatically be set to False.\n",
            " |  \n",
            " |  ----------------------------------------------------------------------\n",
            " |  Data and other attributes defined here:\n",
            " |  \n",
            " |  EVENTS = ['change', 'input', 'select', 'focus', 'blur', 'key_up']\n",
            " |  \n",
            " |  __abstractmethods__ = frozenset()\n",
            " |  \n",
            " |  __annotations__ = {}\n",
            " |  \n",
            " |  ----------------------------------------------------------------------\n",
            " |  Methods inherited from gradio.components.base.FormComponent:\n",
            " |  \n",
            " |  get_expected_parent(self) -> 'type[Form] | None'\n",
            " |  \n",
            " |  ----------------------------------------------------------------------\n",
            " |  Methods inherited from gradio.components.base.Component:\n",
            " |  \n",
            " |  as_example(self, value)\n",
            " |      Deprecated and replaced by `process_example()`.\n",
            " |  \n",
            " |  attach_load_event(self, callable: 'Callable', every: 'Timer | float | None', inputs: 'Component | Sequence[Component] | set[Component] | None' = None)\n",
            " |      Add an event that runs `callable`, optionally at interval specified by `every`.\n",
            " |  \n",
            " |  example_inputs(self) -> 'Any'\n",
            " |      Deprecated and replaced by `example_payload()` and `example_value()`.\n",
            " |  \n",
            " |  flag(self, payload: 'Any', flag_dir: 'str | Path' = '') -> 'str'\n",
            " |      Write the component's value to a format that can be stored in a csv or jsonl format for flagging.\n",
            " |  \n",
            " |  get_config(self)\n",
            " |  \n",
            " |  process_example(self, value)\n",
            " |      Process the input data in a way that can be displayed by the examples dataset component in the front-end.\n",
            " |      By default, this calls the `.postprocess()` method of the component. However, if the `.postprocess()` method is\n",
            " |      computationally intensive, or returns a large payload, a custom implementation may be appropriate.\n",
            " |      \n",
            " |      For example,  the `process_example()` method of the `gr.Audio()` component only returns the name of the file, not\n",
            " |      the processed audio file. The `.process_example()` method of the `gr.Dataframe()` returns the head of a dataframe\n",
            " |      instead of the full dataframe.\n",
            " |      \n",
            " |      The return value of this method must be json-serializable to put in the config.\n",
            " |  \n",
            " |  read_from_flag(self, payload: 'Any')\n",
            " |      Convert the data from the csv or jsonl file into the component state.\n",
            " |  \n",
            " |  ----------------------------------------------------------------------\n",
            " |  Static methods inherited from gradio.components.base.Component:\n",
            " |  \n",
            " |  get_load_fn_and_initial_value(value, inputs=None)\n",
            " |  \n",
            " |  ----------------------------------------------------------------------\n",
            " |  Readonly properties inherited from gradio.components.base.Component:\n",
            " |  \n",
            " |  skip_api\n",
            " |      Whether this component should be skipped from the api return value\n",
            " |  \n",
            " |  ----------------------------------------------------------------------\n",
            " |  Data and other attributes inherited from gradio.components.base.Component:\n",
            " |  \n",
            " |  FRONTEND_DIR = '../../frontend/'\n",
            " |  \n",
            " |  TEMPLATE_DIR = './templates/'\n",
            " |  \n",
            " |  ----------------------------------------------------------------------\n",
            " |  Class methods inherited from gradio.components.base.ComponentBase:\n",
            " |  \n",
            " |  get_component_class_id() -> 'str' from gradio.component_meta.ComponentMeta\n",
            " |  \n",
            " |  has_event(event: 'str | EventListener') -> 'bool' from gradio.component_meta.ComponentMeta\n",
            " |  \n",
            " |  ----------------------------------------------------------------------\n",
            " |  Data descriptors inherited from gradio.components.base.ComponentBase:\n",
            " |  \n",
            " |  __dict__\n",
            " |      dictionary for instance variables (if defined)\n",
            " |  \n",
            " |  __weakref__\n",
            " |      list of weak references to the object (if defined)\n",
            " |  \n",
            " |  ----------------------------------------------------------------------\n",
            " |  Methods inherited from gradio.blocks.Block:\n",
            " |  \n",
            " |  async async_move_resource_to_block_cache(self, url_or_file_path: 'str | Path | None') -> 'str | None'\n",
            " |      Moves a file or downloads a file from a url to a block's cache directory, adds\n",
            " |      to to the block's temp_files, and returns the path to the file in cache. This\n",
            " |      ensures that the file is accessible to the Block and can be served to users.\n",
            " |      \n",
            " |      This async version of the function is used when this is being called within\n",
            " |      a FastAPI route, as this is not blocking.\n",
            " |  \n",
            " |  get_block_class(self) -> 'str'\n",
            " |      Gets block's class name. If it is template component it gets the parent's class name.\n",
            " |      Very similar to the get_block_name method, but this method is used to reconstruct a\n",
            " |      Gradio app that is loaded from a Space using gr.load(). This should generally\n",
            " |      NOT be overridden.\n",
            " |  \n",
            " |  get_block_name(self) -> 'str'\n",
            " |      Gets block's class name. If it is template component it gets the parent's class name.\n",
            " |      This is used to identify the Svelte file to use in the frontend. Override this method\n",
            " |      if a component should use a different Svelte file than the default naming convention.\n",
            " |  \n",
            " |  move_resource_to_block_cache(self, url_or_file_path: 'str | Path | None') -> 'str | None'\n",
            " |      Moves a file or downloads a file from a url to a block's cache directory, adds\n",
            " |      to to the block's temp_files, and returns the path to the file in cache. This\n",
            " |      ensures that the file is accessible to the Block and can be served to users.\n",
            " |      \n",
            " |      This sync version of the function is used when this is being called outside of\n",
            " |      a FastAPI route, e.g. when examples are being cached.\n",
            " |  \n",
            " |  render(self)\n",
            " |      Adds self into appropriate BlockContext\n",
            " |  \n",
            " |  serve_static_file(self, url_or_file_path: 'str | Path | dict | None') -> 'dict | None'\n",
            " |      If a file is a local file, moves it to the block's cache directory and returns\n",
            " |      a FileData-type dictionary corresponding to the file. If the file is a URL, returns a\n",
            " |      FileData-type dictionary corresponding to the URL. This ensures that the file is\n",
            " |      accessible in the frontend and can be served to users.\n",
            " |      \n",
            " |      Examples:\n",
            " |      >>> block.serve_static_file(\"https://gradio.app/logo.png\") -> {\"path\": \"https://gradio.app/logo.png\", \"url\": \"https://gradio.app/logo.png\"}\n",
            " |      >>> block.serve_static_file(\"logo.png\") -> {\"path\": \"logo.png\", \"url\": \"/file=logo.png\"}\n",
            " |      >>> block.serve_static_file({\"path\": \"logo.png\", \"url\": \"/file=logo.png\"}) -> {\"path\": \"logo.png\", \"url\": \"/file=logo.png\"}\n",
            " |  \n",
            " |  unrender(self)\n",
            " |      Removes self from BlockContext if it has been rendered (otherwise does nothing).\n",
            " |      Removes self from the layout and collection of blocks, but does not delete any event triggers.\n",
            " |  \n",
            " |  ----------------------------------------------------------------------\n",
            " |  Class methods inherited from gradio.blocks.Block:\n",
            " |  \n",
            " |  recover_kwargs(props: 'dict[str, Any]', additional_keys: 'list[str] | None' = None) from gradio.component_meta.ComponentMeta\n",
            " |      Recovers kwargs from a dict of props.\n",
            " |  \n",
            " |  ----------------------------------------------------------------------\n",
            " |  Readonly properties inherited from gradio.blocks.Block:\n",
            " |  \n",
            " |  constructor_args\n",
            " |      Get the arguments passed to the component's initializer.\n",
            " |      \n",
            " |      Only set classes whose metaclass is ComponentMeta\n",
            " |  \n",
            " |  events\n",
            " |  \n",
            " |  stateful\n",
            "\n"
          ]
        }
      ]
    },
    {
      "cell_type": "code",
      "source": [],
      "metadata": {
        "id": "n-nyzQ3NYIa-"
      },
      "execution_count": null,
      "outputs": []
    }
  ]
}