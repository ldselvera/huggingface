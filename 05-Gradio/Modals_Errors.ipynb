{
  "nbformat": 4,
  "nbformat_minor": 0,
  "metadata": {
    "colab": {
      "provenance": [],
      "authorship_tag": "ABX9TyMyvxieNrxDz7coGvbLAfnW",
      "include_colab_link": true
    },
    "kernelspec": {
      "name": "python3",
      "display_name": "Python 3"
    },
    "language_info": {
      "name": "python"
    }
  },
  "cells": [
    {
      "cell_type": "markdown",
      "metadata": {
        "id": "view-in-github",
        "colab_type": "text"
      },
      "source": [
        "<a href=\"https://colab.research.google.com/github/ldselvera/huggingface/blob/main/05-Gradio/Modals_Errors.ipynb\" target=\"_parent\"><img src=\"https://colab.research.google.com/assets/colab-badge.svg\" alt=\"Open In Colab\"/></a>"
      ]
    },
    {
      "cell_type": "code",
      "source": [
        "# !pip install gradio"
      ],
      "metadata": {
        "id": "aRJa4S6vk8ee"
      },
      "execution_count": 2,
      "outputs": []
    },
    {
      "cell_type": "code",
      "execution_count": 3,
      "metadata": {
        "id": "Dzyx-lMxk3pH"
      },
      "outputs": [],
      "source": [
        "import gradio as gr"
      ]
    },
    {
      "cell_type": "code",
      "source": [
        "def number_validation(number):\n",
        "    \"\"\"\n",
        "    This function checks whether the provided number is even\n",
        "    \"\"\"\n",
        "\n",
        "    return number % 2 == 0\n",
        "\n",
        "def add(number1, number2):\n",
        "    \"\"\"\n",
        "    Add two numbers but only if number1 is even\n",
        "    \"\"\"\n",
        "    if not number_validation(number1):\n",
        "        raise gr.Error(\"Number 1 is not even!\")\n",
        "    return number1 + number2\n",
        "\n",
        "\n",
        "iface = gr.Interface(fn=add, inputs=[gr.Number(), gr.Number()], outputs=gr.Number())\n",
        "iface.launch()"
      ],
      "metadata": {
        "colab": {
          "base_uri": "https://localhost:8080/",
          "height": 645
        },
        "id": "IUmhyc8Fk-fd",
        "outputId": "4a42e3fd-4e4a-4cfe-afcc-2f0687662480"
      },
      "execution_count": 4,
      "outputs": [
        {
          "output_type": "stream",
          "name": "stdout",
          "text": [
            "Setting queue=True in a Colab notebook requires sharing enabled. Setting `share=True` (you can turn this off by setting `share=False` in `launch()` explicitly).\n",
            "\n",
            "Colab notebook detected. To show errors in colab notebook, set debug=True in launch()\n",
            "Running on public URL: https://959116bd11062cecf8.gradio.live\n",
            "\n",
            "This share link expires in 72 hours. For free permanent hosting and GPU upgrades, run `gradio deploy` from Terminal to deploy to Spaces (https://huggingface.co/spaces)\n"
          ]
        },
        {
          "output_type": "display_data",
          "data": {
            "text/plain": [
              "<IPython.core.display.HTML object>"
            ],
            "text/html": [
              "<div><iframe src=\"https://959116bd11062cecf8.gradio.live\" width=\"100%\" height=\"500\" allow=\"autoplay; camera; microphone; clipboard-read; clipboard-write;\" frameborder=\"0\" allowfullscreen></iframe></div>"
            ]
          },
          "metadata": {}
        },
        {
          "output_type": "execute_result",
          "data": {
            "text/plain": []
          },
          "metadata": {},
          "execution_count": 4
        }
      ]
    },
    {
      "cell_type": "code",
      "source": [
        "def number_validation(number):\n",
        "    \"\"\"\n",
        "    This function checks whether the provided number is even\n",
        "    \"\"\"\n",
        "\n",
        "    return number % 2 == 0\n",
        "\n",
        "def add(number1, number2):\n",
        "    \"\"\"\n",
        "    Add two numbers but only if number1 is even\n",
        "    \"\"\"\n",
        "    if not number_validation(number1):\n",
        "        gr.Warning(\"Number 1 is not even!\")\n",
        "    return number1 + number2\n",
        "\n",
        "\n",
        "iface = gr.Interface(fn=add, inputs=[gr.Number(), gr.Number()], outputs=gr.Number())\n",
        "iface.launch()"
      ],
      "metadata": {
        "colab": {
          "base_uri": "https://localhost:8080/",
          "height": 645
        },
        "id": "_TyCA25FlCCY",
        "outputId": "4934ac4b-803e-407d-f228-1e8a0b05bd08"
      },
      "execution_count": 5,
      "outputs": [
        {
          "output_type": "stream",
          "name": "stdout",
          "text": [
            "Setting queue=True in a Colab notebook requires sharing enabled. Setting `share=True` (you can turn this off by setting `share=False` in `launch()` explicitly).\n",
            "\n",
            "Colab notebook detected. To show errors in colab notebook, set debug=True in launch()\n",
            "Running on public URL: https://b8913923037b526d17.gradio.live\n",
            "\n",
            "This share link expires in 72 hours. For free permanent hosting and GPU upgrades, run `gradio deploy` from Terminal to deploy to Spaces (https://huggingface.co/spaces)\n"
          ]
        },
        {
          "output_type": "display_data",
          "data": {
            "text/plain": [
              "<IPython.core.display.HTML object>"
            ],
            "text/html": [
              "<div><iframe src=\"https://b8913923037b526d17.gradio.live\" width=\"100%\" height=\"500\" allow=\"autoplay; camera; microphone; clipboard-read; clipboard-write;\" frameborder=\"0\" allowfullscreen></iframe></div>"
            ]
          },
          "metadata": {}
        },
        {
          "output_type": "execute_result",
          "data": {
            "text/plain": []
          },
          "metadata": {},
          "execution_count": 5
        }
      ]
    },
    {
      "cell_type": "code",
      "source": [
        "def number_validation(number):\n",
        "    \"\"\"\n",
        "    This function checks whether the provided number is even\n",
        "    \"\"\"\n",
        "\n",
        "    return number % 2 == 0\n",
        "\n",
        "def add(number1, number2):\n",
        "    \"\"\"\n",
        "    Add two numbers but only if number1 is even\n",
        "    \"\"\"\n",
        "    if not number_validation(number1):\n",
        "        gr.Info(\"Number 1 is not even!\")\n",
        "    return number1 + number2\n",
        "\n",
        "\n",
        "iface = gr.Interface(fn=add, inputs=[gr.Number(), gr.Number()], outputs=gr.Number())\n",
        "iface.launch()"
      ],
      "metadata": {
        "colab": {
          "base_uri": "https://localhost:8080/",
          "height": 645
        },
        "id": "hzuihCzvlErd",
        "outputId": "ea3dd3ba-556a-435b-e22a-f6c9f60abed3"
      },
      "execution_count": 6,
      "outputs": [
        {
          "output_type": "stream",
          "name": "stdout",
          "text": [
            "Setting queue=True in a Colab notebook requires sharing enabled. Setting `share=True` (you can turn this off by setting `share=False` in `launch()` explicitly).\n",
            "\n",
            "Colab notebook detected. To show errors in colab notebook, set debug=True in launch()\n",
            "Running on public URL: https://776b38cf9a8fa4ec8e.gradio.live\n",
            "\n",
            "This share link expires in 72 hours. For free permanent hosting and GPU upgrades, run `gradio deploy` from Terminal to deploy to Spaces (https://huggingface.co/spaces)\n"
          ]
        },
        {
          "output_type": "display_data",
          "data": {
            "text/plain": [
              "<IPython.core.display.HTML object>"
            ],
            "text/html": [
              "<div><iframe src=\"https://776b38cf9a8fa4ec8e.gradio.live\" width=\"100%\" height=\"500\" allow=\"autoplay; camera; microphone; clipboard-read; clipboard-write;\" frameborder=\"0\" allowfullscreen></iframe></div>"
            ]
          },
          "metadata": {}
        },
        {
          "output_type": "execute_result",
          "data": {
            "text/plain": []
          },
          "metadata": {},
          "execution_count": 6
        }
      ]
    },
    {
      "cell_type": "code",
      "source": [],
      "metadata": {
        "id": "KwLAiVX3lTRH"
      },
      "execution_count": null,
      "outputs": []
    }
  ]
}