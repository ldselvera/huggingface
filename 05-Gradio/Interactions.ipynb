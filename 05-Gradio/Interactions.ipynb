{
  "nbformat": 4,
  "nbformat_minor": 0,
  "metadata": {
    "colab": {
      "provenance": [],
      "authorship_tag": "ABX9TyOWDEvqaRaMvpSOr+04wpam",
      "include_colab_link": true
    },
    "kernelspec": {
      "name": "python3",
      "display_name": "Python 3"
    },
    "language_info": {
      "name": "python"
    }
  },
  "cells": [
    {
      "cell_type": "markdown",
      "metadata": {
        "id": "view-in-github",
        "colab_type": "text"
      },
      "source": [
        "<a href=\"https://colab.research.google.com/github/ldselvera/huggingface/blob/main/05-Gradio/Interactions.ipynb\" target=\"_parent\"><img src=\"https://colab.research.google.com/assets/colab-badge.svg\" alt=\"Open In Colab\"/></a>"
      ]
    },
    {
      "cell_type": "code",
      "execution_count": 2,
      "metadata": {
        "id": "2TbErtS1dFqW"
      },
      "outputs": [],
      "source": [
        "# !pip install gradio"
      ]
    },
    {
      "cell_type": "code",
      "source": [
        "import gradio as gr"
      ],
      "metadata": {
        "id": "nraJ61hrdHou"
      },
      "execution_count": 3,
      "outputs": []
    },
    {
      "cell_type": "code",
      "source": [
        "# FUNCTION\n",
        "def multiply(x, y):\n",
        "    return x*y\n",
        "\n",
        "with gr.Blocks() as demo:\n",
        "    with gr.Row():\n",
        "        # INPUT\n",
        "        slider1 = gr.Slider()\n",
        "        slider2 = gr.Slider()\n",
        "    with gr.Row():\n",
        "        # OUTPUT\n",
        "        result = gr.Text()\n",
        "    # CLICK or CHANGE\n",
        "    slider1.change(fn=multiply, inputs=[slider1, slider2], outputs=result)\n",
        "    slider2.change(fn=multiply, inputs=[slider1, slider2], outputs=result)\n",
        "\n",
        "\n",
        "# INTERFACE --> fn, inputs, outputs\n",
        "demo.launch()"
      ],
      "metadata": {
        "colab": {
          "base_uri": "https://localhost:8080/",
          "height": 645
        },
        "id": "2gIHZSUpdRhb",
        "outputId": "095a95c7-75d0-4c06-fd63-3d1de19e07bc"
      },
      "execution_count": 7,
      "outputs": [
        {
          "output_type": "stream",
          "name": "stdout",
          "text": [
            "Setting queue=True in a Colab notebook requires sharing enabled. Setting `share=True` (you can turn this off by setting `share=False` in `launch()` explicitly).\n",
            "\n",
            "Colab notebook detected. To show errors in colab notebook, set debug=True in launch()\n",
            "Running on public URL: https://481bfee6bd03246611.gradio.live\n",
            "\n",
            "This share link expires in 72 hours. For free permanent hosting and GPU upgrades, run `gradio deploy` from Terminal to deploy to Spaces (https://huggingface.co/spaces)\n"
          ]
        },
        {
          "output_type": "display_data",
          "data": {
            "text/plain": [
              "<IPython.core.display.HTML object>"
            ],
            "text/html": [
              "<div><iframe src=\"https://481bfee6bd03246611.gradio.live\" width=\"100%\" height=\"500\" allow=\"autoplay; camera; microphone; clipboard-read; clipboard-write;\" frameborder=\"0\" allowfullscreen></iframe></div>"
            ]
          },
          "metadata": {}
        },
        {
          "output_type": "execute_result",
          "data": {
            "text/plain": []
          },
          "metadata": {},
          "execution_count": 7
        }
      ]
    },
    {
      "cell_type": "code",
      "source": [
        "def multiply(x, y):\n",
        "    return x*y\n",
        "with gr.Blocks() as demo:\n",
        "    with gr.Row():\n",
        "        slider1 = gr.Slider()\n",
        "        slider2 = gr.Slider()\n",
        "    with gr.Row():\n",
        "        button = gr.Button(\"Multiply\")\n",
        "    with gr.Row():\n",
        "        result = gr.Text()\n",
        "\n",
        "    button.click(fn=multiply, inputs=[slider1, slider2], outputs=[result])\n",
        "demo.launch()"
      ],
      "metadata": {
        "colab": {
          "base_uri": "https://localhost:8080/",
          "height": 645
        },
        "id": "UaGpYaK_d094",
        "outputId": "abe9e149-7d3b-4051-a415-62c663339635"
      },
      "execution_count": 5,
      "outputs": [
        {
          "output_type": "stream",
          "name": "stdout",
          "text": [
            "Setting queue=True in a Colab notebook requires sharing enabled. Setting `share=True` (you can turn this off by setting `share=False` in `launch()` explicitly).\n",
            "\n",
            "Colab notebook detected. To show errors in colab notebook, set debug=True in launch()\n",
            "Running on public URL: https://ad80279f98b74ab929.gradio.live\n",
            "\n",
            "This share link expires in 72 hours. For free permanent hosting and GPU upgrades, run `gradio deploy` from Terminal to deploy to Spaces (https://huggingface.co/spaces)\n"
          ]
        },
        {
          "output_type": "display_data",
          "data": {
            "text/plain": [
              "<IPython.core.display.HTML object>"
            ],
            "text/html": [
              "<div><iframe src=\"https://ad80279f98b74ab929.gradio.live\" width=\"100%\" height=\"500\" allow=\"autoplay; camera; microphone; clipboard-read; clipboard-write;\" frameborder=\"0\" allowfullscreen></iframe></div>"
            ]
          },
          "metadata": {}
        },
        {
          "output_type": "execute_result",
          "data": {
            "text/plain": []
          },
          "metadata": {},
          "execution_count": 5
        }
      ]
    },
    {
      "cell_type": "code",
      "source": [
        "def multiply(x, y):\n",
        "    return x*y\n",
        "\n",
        "def addition(x, y):\n",
        "    return x+y\n",
        "with gr.Blocks() as demo:\n",
        "    with gr.Row():\n",
        "        slider1 = gr.Slider()\n",
        "        slider2 = gr.Slider()\n",
        "    with gr.Row():\n",
        "        button_multiply = gr.Button(\"Multiply\")\n",
        "        button_addition = gr.Button(\"Addition\")\n",
        "\n",
        "    with gr.Row():\n",
        "        result = gr.Text()\n",
        "\n",
        "    button_multiply.click(fn=multiply, inputs=[slider1, slider2], outputs=[result])\n",
        "    button_addition.click(fn=addition, inputs=[slider1, slider2], outputs=[result])\n",
        "\n",
        "demo.launch()"
      ],
      "metadata": {
        "colab": {
          "base_uri": "https://localhost:8080/",
          "height": 645
        },
        "id": "QU-d7hYdd_VH",
        "outputId": "ede0be22-7f07-473c-9ecd-9c6d919d9c89"
      },
      "execution_count": 8,
      "outputs": [
        {
          "output_type": "stream",
          "name": "stdout",
          "text": [
            "Setting queue=True in a Colab notebook requires sharing enabled. Setting `share=True` (you can turn this off by setting `share=False` in `launch()` explicitly).\n",
            "\n",
            "Colab notebook detected. To show errors in colab notebook, set debug=True in launch()\n",
            "Running on public URL: https://a1e82c709c73ab0891.gradio.live\n",
            "\n",
            "This share link expires in 72 hours. For free permanent hosting and GPU upgrades, run `gradio deploy` from Terminal to deploy to Spaces (https://huggingface.co/spaces)\n"
          ]
        },
        {
          "output_type": "display_data",
          "data": {
            "text/plain": [
              "<IPython.core.display.HTML object>"
            ],
            "text/html": [
              "<div><iframe src=\"https://a1e82c709c73ab0891.gradio.live\" width=\"100%\" height=\"500\" allow=\"autoplay; camera; microphone; clipboard-read; clipboard-write;\" frameborder=\"0\" allowfullscreen></iframe></div>"
            ]
          },
          "metadata": {}
        },
        {
          "output_type": "execute_result",
          "data": {
            "text/plain": []
          },
          "metadata": {},
          "execution_count": 8
        }
      ]
    },
    {
      "cell_type": "code",
      "source": [
        "def create_result_string(i1, i2):\n",
        "    return f\"{i1} is the squared value and {i2} is the square root!\"\n",
        "\n",
        "def square_root_input(input_value):\n",
        "    return input_value ** 0.5\n",
        "\n",
        "def square_input(input_value):\n",
        "    return input_value**2\n",
        "\n",
        "def main(input_value):\n",
        "    # Call function2 on input 1\n",
        "    input_value_squared = square_input(input_value)\n",
        "    input_value_root = square_root_input(input_value)\n",
        "    return create_result_string(input_value_squared, input_value_root)\n",
        ""
      ],
      "metadata": {
        "id": "OVMQjfbNghvR"
      },
      "execution_count": 10,
      "outputs": []
    },
    {
      "cell_type": "code",
      "source": [
        "\n",
        "with gr.Blocks() as demo:\n",
        "    with gr.Row():\n",
        "        slider1 = gr.Slider()\n",
        "    with gr.Row():\n",
        "        button = gr.Button(\"Start program!\")\n",
        "\n",
        "    with gr.Row():\n",
        "        result = gr.Label()\n",
        "\n",
        "    button.click(fn=main, inputs=[slider1], outputs=[result])\n",
        "\n",
        "demo.launch()"
      ],
      "metadata": {
        "colab": {
          "base_uri": "https://localhost:8080/",
          "height": 645
        },
        "id": "J-tNNl_ohtCn",
        "outputId": "0032d9f2-3dc1-445f-8c1c-487f97731365"
      },
      "execution_count": 11,
      "outputs": [
        {
          "output_type": "stream",
          "name": "stdout",
          "text": [
            "Setting queue=True in a Colab notebook requires sharing enabled. Setting `share=True` (you can turn this off by setting `share=False` in `launch()` explicitly).\n",
            "\n",
            "Colab notebook detected. To show errors in colab notebook, set debug=True in launch()\n",
            "Running on public URL: https://49104f29a1041dddbf.gradio.live\n",
            "\n",
            "This share link expires in 72 hours. For free permanent hosting and GPU upgrades, run `gradio deploy` from Terminal to deploy to Spaces (https://huggingface.co/spaces)\n"
          ]
        },
        {
          "output_type": "display_data",
          "data": {
            "text/plain": [
              "<IPython.core.display.HTML object>"
            ],
            "text/html": [
              "<div><iframe src=\"https://49104f29a1041dddbf.gradio.live\" width=\"100%\" height=\"500\" allow=\"autoplay; camera; microphone; clipboard-read; clipboard-write;\" frameborder=\"0\" allowfullscreen></iframe></div>"
            ]
          },
          "metadata": {}
        },
        {
          "output_type": "execute_result",
          "data": {
            "text/plain": []
          },
          "metadata": {},
          "execution_count": 11
        }
      ]
    },
    {
      "cell_type": "code",
      "source": [
        "\n",
        "class Calculator:\n",
        "    def __init__(self):\n",
        "        pass\n",
        "\n",
        "    @staticmethod\n",
        "    def multiply(x, y):\n",
        "        return x*y\n",
        "\n",
        "    @staticmethod\n",
        "    def addition(x, y):\n",
        "        return x+y\n",
        "\n",
        "calc = Calculator()\n",
        "\n",
        "with gr.Blocks() as demo:\n",
        "    with gr.Row():\n",
        "        slider1 = gr.Slider()\n",
        "        slider2 = gr.Slider()\n",
        "    with gr.Row():\n",
        "        button_multiply = gr.Button(\"Multiply\")\n",
        "        button_addition = gr.Button(\"Addition\")\n",
        "\n",
        "    with gr.Row():\n",
        "        result = gr.Text()\n",
        "\n",
        "    button_multiply.click(fn=calc.multiply, inputs=[slider1, slider2], outputs=[result])\n",
        "    button_addition.click(fn=calc.addition, inputs=[slider1, slider2], outputs=[result])\n",
        "\n",
        "demo.launch()"
      ],
      "metadata": {
        "colab": {
          "base_uri": "https://localhost:8080/",
          "height": 645
        },
        "id": "IezPMNaihuP_",
        "outputId": "c6e23193-e3e7-46fa-9675-8fc8a615635d"
      },
      "execution_count": 12,
      "outputs": [
        {
          "output_type": "stream",
          "name": "stdout",
          "text": [
            "Setting queue=True in a Colab notebook requires sharing enabled. Setting `share=True` (you can turn this off by setting `share=False` in `launch()` explicitly).\n",
            "\n",
            "Colab notebook detected. To show errors in colab notebook, set debug=True in launch()\n",
            "Running on public URL: https://7da42c86df0bb0c370.gradio.live\n",
            "\n",
            "This share link expires in 72 hours. For free permanent hosting and GPU upgrades, run `gradio deploy` from Terminal to deploy to Spaces (https://huggingface.co/spaces)\n"
          ]
        },
        {
          "output_type": "display_data",
          "data": {
            "text/plain": [
              "<IPython.core.display.HTML object>"
            ],
            "text/html": [
              "<div><iframe src=\"https://7da42c86df0bb0c370.gradio.live\" width=\"100%\" height=\"500\" allow=\"autoplay; camera; microphone; clipboard-read; clipboard-write;\" frameborder=\"0\" allowfullscreen></iframe></div>"
            ]
          },
          "metadata": {}
        },
        {
          "output_type": "execute_result",
          "data": {
            "text/plain": []
          },
          "metadata": {},
          "execution_count": 12
        }
      ]
    },
    {
      "cell_type": "code",
      "source": [],
      "metadata": {
        "id": "rsrqcanCh1GO"
      },
      "execution_count": null,
      "outputs": []
    }
  ]
}