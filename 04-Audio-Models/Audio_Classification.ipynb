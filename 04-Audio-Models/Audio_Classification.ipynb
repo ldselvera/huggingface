{
  "nbformat": 4,
  "nbformat_minor": 0,
  "metadata": {
    "colab": {
      "provenance": [],
      "authorship_tag": "ABX9TyNrt4tDJiZeRI6MKShPI9t9",
      "include_colab_link": true
    },
    "kernelspec": {
      "name": "python3",
      "display_name": "Python 3"
    },
    "language_info": {
      "name": "python"
    },
    "widgets": {
      "application/vnd.jupyter.widget-state+json": {
        "e434dbc7033745f7af01287d085ba661": {
          "model_module": "@jupyter-widgets/controls",
          "model_name": "HBoxModel",
          "model_module_version": "1.5.0",
          "state": {
            "_dom_classes": [],
            "_model_module": "@jupyter-widgets/controls",
            "_model_module_version": "1.5.0",
            "_model_name": "HBoxModel",
            "_view_count": null,
            "_view_module": "@jupyter-widgets/controls",
            "_view_module_version": "1.5.0",
            "_view_name": "HBoxView",
            "box_style": "",
            "children": [
              "IPY_MODEL_8f53569819554e07b589243b136c5f97",
              "IPY_MODEL_8d3bc935efb24850b06105f76f407721",
              "IPY_MODEL_146af732190b410ca8ee0cc7f662671a"
            ],
            "layout": "IPY_MODEL_44aa09af0b004551899fad74629c44ab"
          }
        },
        "8f53569819554e07b589243b136c5f97": {
          "model_module": "@jupyter-widgets/controls",
          "model_name": "HTMLModel",
          "model_module_version": "1.5.0",
          "state": {
            "_dom_classes": [],
            "_model_module": "@jupyter-widgets/controls",
            "_model_module_version": "1.5.0",
            "_model_name": "HTMLModel",
            "_view_count": null,
            "_view_module": "@jupyter-widgets/controls",
            "_view_module_version": "1.5.0",
            "_view_name": "HTMLView",
            "description": "",
            "description_tooltip": null,
            "layout": "IPY_MODEL_f97618e82a5d4023a54c5717d81af367",
            "placeholder": "​",
            "style": "IPY_MODEL_3a7215774caf466ea1887f93c1f04256",
            "value": "preprocessor_config.json: 100%"
          }
        },
        "8d3bc935efb24850b06105f76f407721": {
          "model_module": "@jupyter-widgets/controls",
          "model_name": "FloatProgressModel",
          "model_module_version": "1.5.0",
          "state": {
            "_dom_classes": [],
            "_model_module": "@jupyter-widgets/controls",
            "_model_module_version": "1.5.0",
            "_model_name": "FloatProgressModel",
            "_view_count": null,
            "_view_module": "@jupyter-widgets/controls",
            "_view_module_version": "1.5.0",
            "_view_name": "ProgressView",
            "bar_style": "success",
            "description": "",
            "description_tooltip": null,
            "layout": "IPY_MODEL_4bfda86d7347450692a1d4f0bc9cd30a",
            "max": 297,
            "min": 0,
            "orientation": "horizontal",
            "style": "IPY_MODEL_61190a80a6eb4b88a4106cd875321619",
            "value": 297
          }
        },
        "146af732190b410ca8ee0cc7f662671a": {
          "model_module": "@jupyter-widgets/controls",
          "model_name": "HTMLModel",
          "model_module_version": "1.5.0",
          "state": {
            "_dom_classes": [],
            "_model_module": "@jupyter-widgets/controls",
            "_model_module_version": "1.5.0",
            "_model_name": "HTMLModel",
            "_view_count": null,
            "_view_module": "@jupyter-widgets/controls",
            "_view_module_version": "1.5.0",
            "_view_name": "HTMLView",
            "description": "",
            "description_tooltip": null,
            "layout": "IPY_MODEL_70095dd4abca4435be74ff091b10e825",
            "placeholder": "​",
            "style": "IPY_MODEL_e15357364a4b417f9bf02ce5514bfb92",
            "value": " 297/297 [00:00&lt;00:00, 9.97kB/s]"
          }
        },
        "44aa09af0b004551899fad74629c44ab": {
          "model_module": "@jupyter-widgets/base",
          "model_name": "LayoutModel",
          "model_module_version": "1.2.0",
          "state": {
            "_model_module": "@jupyter-widgets/base",
            "_model_module_version": "1.2.0",
            "_model_name": "LayoutModel",
            "_view_count": null,
            "_view_module": "@jupyter-widgets/base",
            "_view_module_version": "1.2.0",
            "_view_name": "LayoutView",
            "align_content": null,
            "align_items": null,
            "align_self": null,
            "border": null,
            "bottom": null,
            "display": null,
            "flex": null,
            "flex_flow": null,
            "grid_area": null,
            "grid_auto_columns": null,
            "grid_auto_flow": null,
            "grid_auto_rows": null,
            "grid_column": null,
            "grid_gap": null,
            "grid_row": null,
            "grid_template_areas": null,
            "grid_template_columns": null,
            "grid_template_rows": null,
            "height": null,
            "justify_content": null,
            "justify_items": null,
            "left": null,
            "margin": null,
            "max_height": null,
            "max_width": null,
            "min_height": null,
            "min_width": null,
            "object_fit": null,
            "object_position": null,
            "order": null,
            "overflow": null,
            "overflow_x": null,
            "overflow_y": null,
            "padding": null,
            "right": null,
            "top": null,
            "visibility": null,
            "width": null
          }
        },
        "f97618e82a5d4023a54c5717d81af367": {
          "model_module": "@jupyter-widgets/base",
          "model_name": "LayoutModel",
          "model_module_version": "1.2.0",
          "state": {
            "_model_module": "@jupyter-widgets/base",
            "_model_module_version": "1.2.0",
            "_model_name": "LayoutModel",
            "_view_count": null,
            "_view_module": "@jupyter-widgets/base",
            "_view_module_version": "1.2.0",
            "_view_name": "LayoutView",
            "align_content": null,
            "align_items": null,
            "align_self": null,
            "border": null,
            "bottom": null,
            "display": null,
            "flex": null,
            "flex_flow": null,
            "grid_area": null,
            "grid_auto_columns": null,
            "grid_auto_flow": null,
            "grid_auto_rows": null,
            "grid_column": null,
            "grid_gap": null,
            "grid_row": null,
            "grid_template_areas": null,
            "grid_template_columns": null,
            "grid_template_rows": null,
            "height": null,
            "justify_content": null,
            "justify_items": null,
            "left": null,
            "margin": null,
            "max_height": null,
            "max_width": null,
            "min_height": null,
            "min_width": null,
            "object_fit": null,
            "object_position": null,
            "order": null,
            "overflow": null,
            "overflow_x": null,
            "overflow_y": null,
            "padding": null,
            "right": null,
            "top": null,
            "visibility": null,
            "width": null
          }
        },
        "3a7215774caf466ea1887f93c1f04256": {
          "model_module": "@jupyter-widgets/controls",
          "model_name": "DescriptionStyleModel",
          "model_module_version": "1.5.0",
          "state": {
            "_model_module": "@jupyter-widgets/controls",
            "_model_module_version": "1.5.0",
            "_model_name": "DescriptionStyleModel",
            "_view_count": null,
            "_view_module": "@jupyter-widgets/base",
            "_view_module_version": "1.2.0",
            "_view_name": "StyleView",
            "description_width": ""
          }
        },
        "4bfda86d7347450692a1d4f0bc9cd30a": {
          "model_module": "@jupyter-widgets/base",
          "model_name": "LayoutModel",
          "model_module_version": "1.2.0",
          "state": {
            "_model_module": "@jupyter-widgets/base",
            "_model_module_version": "1.2.0",
            "_model_name": "LayoutModel",
            "_view_count": null,
            "_view_module": "@jupyter-widgets/base",
            "_view_module_version": "1.2.0",
            "_view_name": "LayoutView",
            "align_content": null,
            "align_items": null,
            "align_self": null,
            "border": null,
            "bottom": null,
            "display": null,
            "flex": null,
            "flex_flow": null,
            "grid_area": null,
            "grid_auto_columns": null,
            "grid_auto_flow": null,
            "grid_auto_rows": null,
            "grid_column": null,
            "grid_gap": null,
            "grid_row": null,
            "grid_template_areas": null,
            "grid_template_columns": null,
            "grid_template_rows": null,
            "height": null,
            "justify_content": null,
            "justify_items": null,
            "left": null,
            "margin": null,
            "max_height": null,
            "max_width": null,
            "min_height": null,
            "min_width": null,
            "object_fit": null,
            "object_position": null,
            "order": null,
            "overflow": null,
            "overflow_x": null,
            "overflow_y": null,
            "padding": null,
            "right": null,
            "top": null,
            "visibility": null,
            "width": null
          }
        },
        "61190a80a6eb4b88a4106cd875321619": {
          "model_module": "@jupyter-widgets/controls",
          "model_name": "ProgressStyleModel",
          "model_module_version": "1.5.0",
          "state": {
            "_model_module": "@jupyter-widgets/controls",
            "_model_module_version": "1.5.0",
            "_model_name": "ProgressStyleModel",
            "_view_count": null,
            "_view_module": "@jupyter-widgets/base",
            "_view_module_version": "1.2.0",
            "_view_name": "StyleView",
            "bar_color": null,
            "description_width": ""
          }
        },
        "70095dd4abca4435be74ff091b10e825": {
          "model_module": "@jupyter-widgets/base",
          "model_name": "LayoutModel",
          "model_module_version": "1.2.0",
          "state": {
            "_model_module": "@jupyter-widgets/base",
            "_model_module_version": "1.2.0",
            "_model_name": "LayoutModel",
            "_view_count": null,
            "_view_module": "@jupyter-widgets/base",
            "_view_module_version": "1.2.0",
            "_view_name": "LayoutView",
            "align_content": null,
            "align_items": null,
            "align_self": null,
            "border": null,
            "bottom": null,
            "display": null,
            "flex": null,
            "flex_flow": null,
            "grid_area": null,
            "grid_auto_columns": null,
            "grid_auto_flow": null,
            "grid_auto_rows": null,
            "grid_column": null,
            "grid_gap": null,
            "grid_row": null,
            "grid_template_areas": null,
            "grid_template_columns": null,
            "grid_template_rows": null,
            "height": null,
            "justify_content": null,
            "justify_items": null,
            "left": null,
            "margin": null,
            "max_height": null,
            "max_width": null,
            "min_height": null,
            "min_width": null,
            "object_fit": null,
            "object_position": null,
            "order": null,
            "overflow": null,
            "overflow_x": null,
            "overflow_y": null,
            "padding": null,
            "right": null,
            "top": null,
            "visibility": null,
            "width": null
          }
        },
        "e15357364a4b417f9bf02ce5514bfb92": {
          "model_module": "@jupyter-widgets/controls",
          "model_name": "DescriptionStyleModel",
          "model_module_version": "1.5.0",
          "state": {
            "_model_module": "@jupyter-widgets/controls",
            "_model_module_version": "1.5.0",
            "_model_name": "DescriptionStyleModel",
            "_view_count": null,
            "_view_module": "@jupyter-widgets/base",
            "_view_module_version": "1.2.0",
            "_view_name": "StyleView",
            "description_width": ""
          }
        },
        "32a2cf294d28484cbcac5b0e574ad0b2": {
          "model_module": "@jupyter-widgets/controls",
          "model_name": "HBoxModel",
          "model_module_version": "1.5.0",
          "state": {
            "_dom_classes": [],
            "_model_module": "@jupyter-widgets/controls",
            "_model_module_version": "1.5.0",
            "_model_name": "HBoxModel",
            "_view_count": null,
            "_view_module": "@jupyter-widgets/controls",
            "_view_module_version": "1.5.0",
            "_view_name": "HBoxView",
            "box_style": "",
            "children": [
              "IPY_MODEL_d8982894bab64315b3f9247087e810bc",
              "IPY_MODEL_d83a6ffeece943f78952d76be6f30b96",
              "IPY_MODEL_79f56dda9f534143a9d26b52827da772"
            ],
            "layout": "IPY_MODEL_6fcb92b4f87f41dda7184434f48d3c2a"
          }
        },
        "d8982894bab64315b3f9247087e810bc": {
          "model_module": "@jupyter-widgets/controls",
          "model_name": "HTMLModel",
          "model_module_version": "1.5.0",
          "state": {
            "_dom_classes": [],
            "_model_module": "@jupyter-widgets/controls",
            "_model_module_version": "1.5.0",
            "_model_name": "HTMLModel",
            "_view_count": null,
            "_view_module": "@jupyter-widgets/controls",
            "_view_module_version": "1.5.0",
            "_view_name": "HTMLView",
            "description": "",
            "description_tooltip": null,
            "layout": "IPY_MODEL_300f60aff45b4ff88401c18835fd90ca",
            "placeholder": "​",
            "style": "IPY_MODEL_2b050309a8f24c1585adbe97fcd43029",
            "value": "config.json: 100%"
          }
        },
        "d83a6ffeece943f78952d76be6f30b96": {
          "model_module": "@jupyter-widgets/controls",
          "model_name": "FloatProgressModel",
          "model_module_version": "1.5.0",
          "state": {
            "_dom_classes": [],
            "_model_module": "@jupyter-widgets/controls",
            "_model_module_version": "1.5.0",
            "_model_name": "FloatProgressModel",
            "_view_count": null,
            "_view_module": "@jupyter-widgets/controls",
            "_view_module_version": "1.5.0",
            "_view_name": "ProgressView",
            "bar_style": "success",
            "description": "",
            "description_tooltip": null,
            "layout": "IPY_MODEL_bf278c48769f468090507f2476e260ed",
            "max": 26763,
            "min": 0,
            "orientation": "horizontal",
            "style": "IPY_MODEL_0d48ab20326f478ea5801f970e2f56e9",
            "value": 26763
          }
        },
        "79f56dda9f534143a9d26b52827da772": {
          "model_module": "@jupyter-widgets/controls",
          "model_name": "HTMLModel",
          "model_module_version": "1.5.0",
          "state": {
            "_dom_classes": [],
            "_model_module": "@jupyter-widgets/controls",
            "_model_module_version": "1.5.0",
            "_model_name": "HTMLModel",
            "_view_count": null,
            "_view_module": "@jupyter-widgets/controls",
            "_view_module_version": "1.5.0",
            "_view_name": "HTMLView",
            "description": "",
            "description_tooltip": null,
            "layout": "IPY_MODEL_d17f9a72c5a747eb9b5726b90eb08fee",
            "placeholder": "​",
            "style": "IPY_MODEL_eecca9f1c7a747de9019974193388a12",
            "value": " 26.8k/26.8k [00:00&lt;00:00, 501kB/s]"
          }
        },
        "6fcb92b4f87f41dda7184434f48d3c2a": {
          "model_module": "@jupyter-widgets/base",
          "model_name": "LayoutModel",
          "model_module_version": "1.2.0",
          "state": {
            "_model_module": "@jupyter-widgets/base",
            "_model_module_version": "1.2.0",
            "_model_name": "LayoutModel",
            "_view_count": null,
            "_view_module": "@jupyter-widgets/base",
            "_view_module_version": "1.2.0",
            "_view_name": "LayoutView",
            "align_content": null,
            "align_items": null,
            "align_self": null,
            "border": null,
            "bottom": null,
            "display": null,
            "flex": null,
            "flex_flow": null,
            "grid_area": null,
            "grid_auto_columns": null,
            "grid_auto_flow": null,
            "grid_auto_rows": null,
            "grid_column": null,
            "grid_gap": null,
            "grid_row": null,
            "grid_template_areas": null,
            "grid_template_columns": null,
            "grid_template_rows": null,
            "height": null,
            "justify_content": null,
            "justify_items": null,
            "left": null,
            "margin": null,
            "max_height": null,
            "max_width": null,
            "min_height": null,
            "min_width": null,
            "object_fit": null,
            "object_position": null,
            "order": null,
            "overflow": null,
            "overflow_x": null,
            "overflow_y": null,
            "padding": null,
            "right": null,
            "top": null,
            "visibility": null,
            "width": null
          }
        },
        "300f60aff45b4ff88401c18835fd90ca": {
          "model_module": "@jupyter-widgets/base",
          "model_name": "LayoutModel",
          "model_module_version": "1.2.0",
          "state": {
            "_model_module": "@jupyter-widgets/base",
            "_model_module_version": "1.2.0",
            "_model_name": "LayoutModel",
            "_view_count": null,
            "_view_module": "@jupyter-widgets/base",
            "_view_module_version": "1.2.0",
            "_view_name": "LayoutView",
            "align_content": null,
            "align_items": null,
            "align_self": null,
            "border": null,
            "bottom": null,
            "display": null,
            "flex": null,
            "flex_flow": null,
            "grid_area": null,
            "grid_auto_columns": null,
            "grid_auto_flow": null,
            "grid_auto_rows": null,
            "grid_column": null,
            "grid_gap": null,
            "grid_row": null,
            "grid_template_areas": null,
            "grid_template_columns": null,
            "grid_template_rows": null,
            "height": null,
            "justify_content": null,
            "justify_items": null,
            "left": null,
            "margin": null,
            "max_height": null,
            "max_width": null,
            "min_height": null,
            "min_width": null,
            "object_fit": null,
            "object_position": null,
            "order": null,
            "overflow": null,
            "overflow_x": null,
            "overflow_y": null,
            "padding": null,
            "right": null,
            "top": null,
            "visibility": null,
            "width": null
          }
        },
        "2b050309a8f24c1585adbe97fcd43029": {
          "model_module": "@jupyter-widgets/controls",
          "model_name": "DescriptionStyleModel",
          "model_module_version": "1.5.0",
          "state": {
            "_model_module": "@jupyter-widgets/controls",
            "_model_module_version": "1.5.0",
            "_model_name": "DescriptionStyleModel",
            "_view_count": null,
            "_view_module": "@jupyter-widgets/base",
            "_view_module_version": "1.2.0",
            "_view_name": "StyleView",
            "description_width": ""
          }
        },
        "bf278c48769f468090507f2476e260ed": {
          "model_module": "@jupyter-widgets/base",
          "model_name": "LayoutModel",
          "model_module_version": "1.2.0",
          "state": {
            "_model_module": "@jupyter-widgets/base",
            "_model_module_version": "1.2.0",
            "_model_name": "LayoutModel",
            "_view_count": null,
            "_view_module": "@jupyter-widgets/base",
            "_view_module_version": "1.2.0",
            "_view_name": "LayoutView",
            "align_content": null,
            "align_items": null,
            "align_self": null,
            "border": null,
            "bottom": null,
            "display": null,
            "flex": null,
            "flex_flow": null,
            "grid_area": null,
            "grid_auto_columns": null,
            "grid_auto_flow": null,
            "grid_auto_rows": null,
            "grid_column": null,
            "grid_gap": null,
            "grid_row": null,
            "grid_template_areas": null,
            "grid_template_columns": null,
            "grid_template_rows": null,
            "height": null,
            "justify_content": null,
            "justify_items": null,
            "left": null,
            "margin": null,
            "max_height": null,
            "max_width": null,
            "min_height": null,
            "min_width": null,
            "object_fit": null,
            "object_position": null,
            "order": null,
            "overflow": null,
            "overflow_x": null,
            "overflow_y": null,
            "padding": null,
            "right": null,
            "top": null,
            "visibility": null,
            "width": null
          }
        },
        "0d48ab20326f478ea5801f970e2f56e9": {
          "model_module": "@jupyter-widgets/controls",
          "model_name": "ProgressStyleModel",
          "model_module_version": "1.5.0",
          "state": {
            "_model_module": "@jupyter-widgets/controls",
            "_model_module_version": "1.5.0",
            "_model_name": "ProgressStyleModel",
            "_view_count": null,
            "_view_module": "@jupyter-widgets/base",
            "_view_module_version": "1.2.0",
            "_view_name": "StyleView",
            "bar_color": null,
            "description_width": ""
          }
        },
        "d17f9a72c5a747eb9b5726b90eb08fee": {
          "model_module": "@jupyter-widgets/base",
          "model_name": "LayoutModel",
          "model_module_version": "1.2.0",
          "state": {
            "_model_module": "@jupyter-widgets/base",
            "_model_module_version": "1.2.0",
            "_model_name": "LayoutModel",
            "_view_count": null,
            "_view_module": "@jupyter-widgets/base",
            "_view_module_version": "1.2.0",
            "_view_name": "LayoutView",
            "align_content": null,
            "align_items": null,
            "align_self": null,
            "border": null,
            "bottom": null,
            "display": null,
            "flex": null,
            "flex_flow": null,
            "grid_area": null,
            "grid_auto_columns": null,
            "grid_auto_flow": null,
            "grid_auto_rows": null,
            "grid_column": null,
            "grid_gap": null,
            "grid_row": null,
            "grid_template_areas": null,
            "grid_template_columns": null,
            "grid_template_rows": null,
            "height": null,
            "justify_content": null,
            "justify_items": null,
            "left": null,
            "margin": null,
            "max_height": null,
            "max_width": null,
            "min_height": null,
            "min_width": null,
            "object_fit": null,
            "object_position": null,
            "order": null,
            "overflow": null,
            "overflow_x": null,
            "overflow_y": null,
            "padding": null,
            "right": null,
            "top": null,
            "visibility": null,
            "width": null
          }
        },
        "eecca9f1c7a747de9019974193388a12": {
          "model_module": "@jupyter-widgets/controls",
          "model_name": "DescriptionStyleModel",
          "model_module_version": "1.5.0",
          "state": {
            "_model_module": "@jupyter-widgets/controls",
            "_model_module_version": "1.5.0",
            "_model_name": "DescriptionStyleModel",
            "_view_count": null,
            "_view_module": "@jupyter-widgets/base",
            "_view_module_version": "1.2.0",
            "_view_name": "StyleView",
            "description_width": ""
          }
        },
        "68b83ce9506a4a80933b753e91da4073": {
          "model_module": "@jupyter-widgets/controls",
          "model_name": "HBoxModel",
          "model_module_version": "1.5.0",
          "state": {
            "_dom_classes": [],
            "_model_module": "@jupyter-widgets/controls",
            "_model_module_version": "1.5.0",
            "_model_name": "HBoxModel",
            "_view_count": null,
            "_view_module": "@jupyter-widgets/controls",
            "_view_module_version": "1.5.0",
            "_view_name": "HBoxView",
            "box_style": "",
            "children": [
              "IPY_MODEL_668eed50ab0641149d990f4aecce265e",
              "IPY_MODEL_0b55ae6f1b0b4b419f2c028827216382",
              "IPY_MODEL_933ec88246f8403b80541687ec92da01"
            ],
            "layout": "IPY_MODEL_c93e9af0cb1246cbb3ac4324e78c0fc4"
          }
        },
        "668eed50ab0641149d990f4aecce265e": {
          "model_module": "@jupyter-widgets/controls",
          "model_name": "HTMLModel",
          "model_module_version": "1.5.0",
          "state": {
            "_dom_classes": [],
            "_model_module": "@jupyter-widgets/controls",
            "_model_module_version": "1.5.0",
            "_model_name": "HTMLModel",
            "_view_count": null,
            "_view_module": "@jupyter-widgets/controls",
            "_view_module_version": "1.5.0",
            "_view_name": "HTMLView",
            "description": "",
            "description_tooltip": null,
            "layout": "IPY_MODEL_9cd18192bfa4485ca06c71dadf6f1f0c",
            "placeholder": "​",
            "style": "IPY_MODEL_bb82e8d756a54e0faf75e544697e2e6b",
            "value": "model.safetensors: 100%"
          }
        },
        "0b55ae6f1b0b4b419f2c028827216382": {
          "model_module": "@jupyter-widgets/controls",
          "model_name": "FloatProgressModel",
          "model_module_version": "1.5.0",
          "state": {
            "_dom_classes": [],
            "_model_module": "@jupyter-widgets/controls",
            "_model_module_version": "1.5.0",
            "_model_name": "FloatProgressModel",
            "_view_count": null,
            "_view_module": "@jupyter-widgets/controls",
            "_view_module_version": "1.5.0",
            "_view_name": "ProgressView",
            "bar_style": "success",
            "description": "",
            "description_tooltip": null,
            "layout": "IPY_MODEL_f49a5549e2874895a880e46f6bc07b09",
            "max": 346404948,
            "min": 0,
            "orientation": "horizontal",
            "style": "IPY_MODEL_e9c317b0bc9a4313b065a25693bc788e",
            "value": 346404948
          }
        },
        "933ec88246f8403b80541687ec92da01": {
          "model_module": "@jupyter-widgets/controls",
          "model_name": "HTMLModel",
          "model_module_version": "1.5.0",
          "state": {
            "_dom_classes": [],
            "_model_module": "@jupyter-widgets/controls",
            "_model_module_version": "1.5.0",
            "_model_name": "HTMLModel",
            "_view_count": null,
            "_view_module": "@jupyter-widgets/controls",
            "_view_module_version": "1.5.0",
            "_view_name": "HTMLView",
            "description": "",
            "description_tooltip": null,
            "layout": "IPY_MODEL_e539b80d119b47198cb8871891eb49d3",
            "placeholder": "​",
            "style": "IPY_MODEL_41fb0daab17044cda7a588ee7bcae3f6",
            "value": " 346M/346M [00:06&lt;00:00, 34.5MB/s]"
          }
        },
        "c93e9af0cb1246cbb3ac4324e78c0fc4": {
          "model_module": "@jupyter-widgets/base",
          "model_name": "LayoutModel",
          "model_module_version": "1.2.0",
          "state": {
            "_model_module": "@jupyter-widgets/base",
            "_model_module_version": "1.2.0",
            "_model_name": "LayoutModel",
            "_view_count": null,
            "_view_module": "@jupyter-widgets/base",
            "_view_module_version": "1.2.0",
            "_view_name": "LayoutView",
            "align_content": null,
            "align_items": null,
            "align_self": null,
            "border": null,
            "bottom": null,
            "display": null,
            "flex": null,
            "flex_flow": null,
            "grid_area": null,
            "grid_auto_columns": null,
            "grid_auto_flow": null,
            "grid_auto_rows": null,
            "grid_column": null,
            "grid_gap": null,
            "grid_row": null,
            "grid_template_areas": null,
            "grid_template_columns": null,
            "grid_template_rows": null,
            "height": null,
            "justify_content": null,
            "justify_items": null,
            "left": null,
            "margin": null,
            "max_height": null,
            "max_width": null,
            "min_height": null,
            "min_width": null,
            "object_fit": null,
            "object_position": null,
            "order": null,
            "overflow": null,
            "overflow_x": null,
            "overflow_y": null,
            "padding": null,
            "right": null,
            "top": null,
            "visibility": null,
            "width": null
          }
        },
        "9cd18192bfa4485ca06c71dadf6f1f0c": {
          "model_module": "@jupyter-widgets/base",
          "model_name": "LayoutModel",
          "model_module_version": "1.2.0",
          "state": {
            "_model_module": "@jupyter-widgets/base",
            "_model_module_version": "1.2.0",
            "_model_name": "LayoutModel",
            "_view_count": null,
            "_view_module": "@jupyter-widgets/base",
            "_view_module_version": "1.2.0",
            "_view_name": "LayoutView",
            "align_content": null,
            "align_items": null,
            "align_self": null,
            "border": null,
            "bottom": null,
            "display": null,
            "flex": null,
            "flex_flow": null,
            "grid_area": null,
            "grid_auto_columns": null,
            "grid_auto_flow": null,
            "grid_auto_rows": null,
            "grid_column": null,
            "grid_gap": null,
            "grid_row": null,
            "grid_template_areas": null,
            "grid_template_columns": null,
            "grid_template_rows": null,
            "height": null,
            "justify_content": null,
            "justify_items": null,
            "left": null,
            "margin": null,
            "max_height": null,
            "max_width": null,
            "min_height": null,
            "min_width": null,
            "object_fit": null,
            "object_position": null,
            "order": null,
            "overflow": null,
            "overflow_x": null,
            "overflow_y": null,
            "padding": null,
            "right": null,
            "top": null,
            "visibility": null,
            "width": null
          }
        },
        "bb82e8d756a54e0faf75e544697e2e6b": {
          "model_module": "@jupyter-widgets/controls",
          "model_name": "DescriptionStyleModel",
          "model_module_version": "1.5.0",
          "state": {
            "_model_module": "@jupyter-widgets/controls",
            "_model_module_version": "1.5.0",
            "_model_name": "DescriptionStyleModel",
            "_view_count": null,
            "_view_module": "@jupyter-widgets/base",
            "_view_module_version": "1.2.0",
            "_view_name": "StyleView",
            "description_width": ""
          }
        },
        "f49a5549e2874895a880e46f6bc07b09": {
          "model_module": "@jupyter-widgets/base",
          "model_name": "LayoutModel",
          "model_module_version": "1.2.0",
          "state": {
            "_model_module": "@jupyter-widgets/base",
            "_model_module_version": "1.2.0",
            "_model_name": "LayoutModel",
            "_view_count": null,
            "_view_module": "@jupyter-widgets/base",
            "_view_module_version": "1.2.0",
            "_view_name": "LayoutView",
            "align_content": null,
            "align_items": null,
            "align_self": null,
            "border": null,
            "bottom": null,
            "display": null,
            "flex": null,
            "flex_flow": null,
            "grid_area": null,
            "grid_auto_columns": null,
            "grid_auto_flow": null,
            "grid_auto_rows": null,
            "grid_column": null,
            "grid_gap": null,
            "grid_row": null,
            "grid_template_areas": null,
            "grid_template_columns": null,
            "grid_template_rows": null,
            "height": null,
            "justify_content": null,
            "justify_items": null,
            "left": null,
            "margin": null,
            "max_height": null,
            "max_width": null,
            "min_height": null,
            "min_width": null,
            "object_fit": null,
            "object_position": null,
            "order": null,
            "overflow": null,
            "overflow_x": null,
            "overflow_y": null,
            "padding": null,
            "right": null,
            "top": null,
            "visibility": null,
            "width": null
          }
        },
        "e9c317b0bc9a4313b065a25693bc788e": {
          "model_module": "@jupyter-widgets/controls",
          "model_name": "ProgressStyleModel",
          "model_module_version": "1.5.0",
          "state": {
            "_model_module": "@jupyter-widgets/controls",
            "_model_module_version": "1.5.0",
            "_model_name": "ProgressStyleModel",
            "_view_count": null,
            "_view_module": "@jupyter-widgets/base",
            "_view_module_version": "1.2.0",
            "_view_name": "StyleView",
            "bar_color": null,
            "description_width": ""
          }
        },
        "e539b80d119b47198cb8871891eb49d3": {
          "model_module": "@jupyter-widgets/base",
          "model_name": "LayoutModel",
          "model_module_version": "1.2.0",
          "state": {
            "_model_module": "@jupyter-widgets/base",
            "_model_module_version": "1.2.0",
            "_model_name": "LayoutModel",
            "_view_count": null,
            "_view_module": "@jupyter-widgets/base",
            "_view_module_version": "1.2.0",
            "_view_name": "LayoutView",
            "align_content": null,
            "align_items": null,
            "align_self": null,
            "border": null,
            "bottom": null,
            "display": null,
            "flex": null,
            "flex_flow": null,
            "grid_area": null,
            "grid_auto_columns": null,
            "grid_auto_flow": null,
            "grid_auto_rows": null,
            "grid_column": null,
            "grid_gap": null,
            "grid_row": null,
            "grid_template_areas": null,
            "grid_template_columns": null,
            "grid_template_rows": null,
            "height": null,
            "justify_content": null,
            "justify_items": null,
            "left": null,
            "margin": null,
            "max_height": null,
            "max_width": null,
            "min_height": null,
            "min_width": null,
            "object_fit": null,
            "object_position": null,
            "order": null,
            "overflow": null,
            "overflow_x": null,
            "overflow_y": null,
            "padding": null,
            "right": null,
            "top": null,
            "visibility": null,
            "width": null
          }
        },
        "41fb0daab17044cda7a588ee7bcae3f6": {
          "model_module": "@jupyter-widgets/controls",
          "model_name": "DescriptionStyleModel",
          "model_module_version": "1.5.0",
          "state": {
            "_model_module": "@jupyter-widgets/controls",
            "_model_module_version": "1.5.0",
            "_model_name": "DescriptionStyleModel",
            "_view_count": null,
            "_view_module": "@jupyter-widgets/base",
            "_view_module_version": "1.2.0",
            "_view_name": "StyleView",
            "description_width": ""
          }
        }
      }
    }
  },
  "cells": [
    {
      "cell_type": "markdown",
      "metadata": {
        "id": "view-in-github",
        "colab_type": "text"
      },
      "source": [
        "<a href=\"https://colab.research.google.com/github/ldselvera/huggingface/blob/main/04-Audio-Models/Audio_Classification.ipynb\" target=\"_parent\"><img src=\"https://colab.research.google.com/assets/colab-badge.svg\" alt=\"Open In Colab\"/></a>"
      ]
    },
    {
      "cell_type": "code",
      "execution_count": 3,
      "metadata": {
        "colab": {
          "base_uri": "https://localhost:8080/"
        },
        "id": "SH341l_bcWLS",
        "outputId": "84dfa650-9dfc-44da-8be0-e2fe30c75ae8"
      },
      "outputs": [
        {
          "output_type": "stream",
          "name": "stdout",
          "text": [
            "4.42.4\n",
            "2.3.1+cu121\n",
            "2.3.1+cu121\n"
          ]
        }
      ],
      "source": [
        "import transformers, torch, torchaudio\n",
        "import librosa\n",
        "print(transformers.__version__)\n",
        "print(torch.__version__)\n",
        "print(torchaudio.__version__)"
      ]
    },
    {
      "cell_type": "code",
      "source": [
        "from transformers import AutoFeatureExtractor, ASTForAudioClassification"
      ],
      "metadata": {
        "id": "XwxjjxLAc2xA"
      },
      "execution_count": 5,
      "outputs": []
    },
    {
      "cell_type": "code",
      "source": [
        "audio_path = 'example.mp3'\n",
        "y, sr = librosa.load(audio_path, sr=None)"
      ],
      "metadata": {
        "id": "SDx0Tvg4dJbK"
      },
      "execution_count": 6,
      "outputs": []
    },
    {
      "cell_type": "code",
      "source": [
        "# https://huggingface.co/MIT/ast-finetuned-audioset-10-10-0.4593\n",
        "feature_extractor = AutoFeatureExtractor.from_pretrained(\"MIT/ast-finetuned-audioset-10-10-0.4593\")"
      ],
      "metadata": {
        "colab": {
          "base_uri": "https://localhost:8080/",
          "height": 153,
          "referenced_widgets": [
            "e434dbc7033745f7af01287d085ba661",
            "8f53569819554e07b589243b136c5f97",
            "8d3bc935efb24850b06105f76f407721",
            "146af732190b410ca8ee0cc7f662671a",
            "44aa09af0b004551899fad74629c44ab",
            "f97618e82a5d4023a54c5717d81af367",
            "3a7215774caf466ea1887f93c1f04256",
            "4bfda86d7347450692a1d4f0bc9cd30a",
            "61190a80a6eb4b88a4106cd875321619",
            "70095dd4abca4435be74ff091b10e825",
            "e15357364a4b417f9bf02ce5514bfb92"
          ]
        },
        "id": "DxCiRGjgdjTW",
        "outputId": "836771cf-d0d9-49c6-b3cb-34a3facdf8a5"
      },
      "execution_count": 7,
      "outputs": [
        {
          "output_type": "stream",
          "name": "stderr",
          "text": [
            "/usr/local/lib/python3.10/dist-packages/huggingface_hub/utils/_token.py:89: UserWarning: \n",
            "The secret `HF_TOKEN` does not exist in your Colab secrets.\n",
            "To authenticate with the Hugging Face Hub, create a token in your settings tab (https://huggingface.co/settings/tokens), set it as secret in your Google Colab and restart your session.\n",
            "You will be able to reuse this secret in all of your notebooks.\n",
            "Please note that authentication is recommended but still optional to access public models or datasets.\n",
            "  warnings.warn(\n"
          ]
        },
        {
          "output_type": "display_data",
          "data": {
            "text/plain": [
              "preprocessor_config.json:   0%|          | 0.00/297 [00:00<?, ?B/s]"
            ],
            "application/vnd.jupyter.widget-view+json": {
              "version_major": 2,
              "version_minor": 0,
              "model_id": "e434dbc7033745f7af01287d085ba661"
            }
          },
          "metadata": {}
        }
      ]
    },
    {
      "cell_type": "code",
      "source": [
        "# Model not trained for 48,000 sample rate\n",
        "# result = feature_extractor(y, sampling_rate=sr)\n",
        "\n",
        "# Pipeline downsamples\n",
        "result = feature_extractor(y, return_tensors='pt')\n",
        "result"
      ],
      "metadata": {
        "colab": {
          "base_uri": "https://localhost:8080/"
        },
        "id": "b455B8RAdwmY",
        "outputId": "c1e554e5-f607-4ff4-df2b-ccb8e814fbe7"
      },
      "execution_count": 13,
      "outputs": [
        {
          "output_type": "stream",
          "name": "stderr",
          "text": [
            "It is strongly recommended to pass the `sampling_rate` argument to this function. Failing to do so can result in silent errors that might be hard to debug.\n"
          ]
        },
        {
          "output_type": "execute_result",
          "data": {
            "text/plain": [
              "{'input_values': tensor([[[ 0.0770, -0.2676,  0.1092,  ..., -1.2776, -1.2776, -1.2776],\n",
              "         [ 0.0846, -0.2771,  0.0997,  ..., -1.2776, -1.2776, -1.2776],\n",
              "         [-0.2939, -0.3674,  0.0095,  ..., -1.2776, -1.2776, -1.2776],\n",
              "         ...,\n",
              "         [ 0.2184, -0.0845,  0.2923,  ..., -1.2776, -1.2776, -1.2776],\n",
              "         [ 0.1963, -0.1293,  0.2475,  ..., -1.2776, -1.2776, -1.2776],\n",
              "         [-0.0509, -0.4521, -0.0752,  ..., -1.2776, -1.2776, -1.2776]]])}"
            ]
          },
          "metadata": {},
          "execution_count": 13
        }
      ]
    },
    {
      "cell_type": "code",
      "source": [
        "model = ASTForAudioClassification.from_pretrained(\"MIT/ast-finetuned-audioset-10-10-0.4593\")"
      ],
      "metadata": {
        "colab": {
          "base_uri": "https://localhost:8080/",
          "height": 81,
          "referenced_widgets": [
            "32a2cf294d28484cbcac5b0e574ad0b2",
            "d8982894bab64315b3f9247087e810bc",
            "d83a6ffeece943f78952d76be6f30b96",
            "79f56dda9f534143a9d26b52827da772",
            "6fcb92b4f87f41dda7184434f48d3c2a",
            "300f60aff45b4ff88401c18835fd90ca",
            "2b050309a8f24c1585adbe97fcd43029",
            "bf278c48769f468090507f2476e260ed",
            "0d48ab20326f478ea5801f970e2f56e9",
            "d17f9a72c5a747eb9b5726b90eb08fee",
            "eecca9f1c7a747de9019974193388a12",
            "68b83ce9506a4a80933b753e91da4073",
            "668eed50ab0641149d990f4aecce265e",
            "0b55ae6f1b0b4b419f2c028827216382",
            "933ec88246f8403b80541687ec92da01",
            "c93e9af0cb1246cbb3ac4324e78c0fc4",
            "9cd18192bfa4485ca06c71dadf6f1f0c",
            "bb82e8d756a54e0faf75e544697e2e6b",
            "f49a5549e2874895a880e46f6bc07b09",
            "e9c317b0bc9a4313b065a25693bc788e",
            "e539b80d119b47198cb8871891eb49d3",
            "41fb0daab17044cda7a588ee7bcae3f6"
          ]
        },
        "id": "JfuzbzCid5z4",
        "outputId": "a1d9ba59-8780-481d-bbbb-849aecc42942"
      },
      "execution_count": 14,
      "outputs": [
        {
          "output_type": "display_data",
          "data": {
            "text/plain": [
              "config.json:   0%|          | 0.00/26.8k [00:00<?, ?B/s]"
            ],
            "application/vnd.jupyter.widget-view+json": {
              "version_major": 2,
              "version_minor": 0,
              "model_id": "32a2cf294d28484cbcac5b0e574ad0b2"
            }
          },
          "metadata": {}
        },
        {
          "output_type": "display_data",
          "data": {
            "text/plain": [
              "model.safetensors:   0%|          | 0.00/346M [00:00<?, ?B/s]"
            ],
            "application/vnd.jupyter.widget-view+json": {
              "version_major": 2,
              "version_minor": 0,
              "model_id": "68b83ce9506a4a80933b753e91da4073"
            }
          },
          "metadata": {}
        }
      ]
    },
    {
      "cell_type": "code",
      "source": [
        "result['input_values']"
      ],
      "metadata": {
        "colab": {
          "base_uri": "https://localhost:8080/"
        },
        "id": "FR1khmUTePnk",
        "outputId": "5e67fab1-d352-4c1f-c3b8-e571f4f6906e"
      },
      "execution_count": 15,
      "outputs": [
        {
          "output_type": "execute_result",
          "data": {
            "text/plain": [
              "tensor([[[ 0.0770, -0.2676,  0.1092,  ..., -1.2776, -1.2776, -1.2776],\n",
              "         [ 0.0846, -0.2771,  0.0997,  ..., -1.2776, -1.2776, -1.2776],\n",
              "         [-0.2939, -0.3674,  0.0095,  ..., -1.2776, -1.2776, -1.2776],\n",
              "         ...,\n",
              "         [ 0.2184, -0.0845,  0.2923,  ..., -1.2776, -1.2776, -1.2776],\n",
              "         [ 0.1963, -0.1293,  0.2475,  ..., -1.2776, -1.2776, -1.2776],\n",
              "         [-0.0509, -0.4521, -0.0752,  ..., -1.2776, -1.2776, -1.2776]]])"
            ]
          },
          "metadata": {},
          "execution_count": 15
        }
      ]
    },
    {
      "cell_type": "code",
      "source": [
        "prediction_logits = model(result['input_values']).logits\n",
        "prediction_logits"
      ],
      "metadata": {
        "colab": {
          "base_uri": "https://localhost:8080/"
        },
        "id": "X8h-Ggu6en2B",
        "outputId": "2bf42df0-cd6a-41e9-bb92-295cbc750775"
      },
      "execution_count": 17,
      "outputs": [
        {
          "output_type": "execute_result",
          "data": {
            "text/plain": [
              "tensor([[ -5.9081,  -9.2253,  -9.4442,  -9.4990, -10.3686,  -9.8169, -10.5372,\n",
              "          -9.9140, -11.0119, -11.1294, -10.8732, -11.3651, -12.3890, -11.9322,\n",
              "         -10.1947, -10.5203, -10.9214, -11.4615, -11.2874, -10.9701, -11.3812,\n",
              "         -11.1792, -10.5879, -10.7083,  -9.4158, -11.2141, -10.9959,  -8.1345,\n",
              "          -8.3063, -12.1890,  -8.9141,  -8.1373,  -9.5586, -10.1567, -10.2660,\n",
              "         -11.6801, -10.3482, -10.8475, -10.4001, -10.8535, -11.0698,  -9.5788,\n",
              "         -12.0086, -10.2645, -10.1869, -10.8037, -10.6147, -10.8702, -11.1633,\n",
              "         -11.6032, -12.3197, -11.4073, -10.7273, -10.6266, -10.7189, -10.2813,\n",
              "         -12.3984, -10.6907, -11.4477, -10.8104, -12.4599, -10.8371, -11.6523,\n",
              "         -11.1756,  -8.7801,  -9.1707, -11.2029, -10.2863, -11.8267,  -9.5817,\n",
              "         -10.8891, -11.8293,  -7.8608,  -8.4752,  -9.2617, -10.5787, -10.6426,\n",
              "         -10.5211,  -9.6369, -11.0325,  -9.8193,  -9.8407, -11.3109, -10.0102,\n",
              "          -9.1413, -11.3183,  -9.6363, -10.5181, -10.5326, -12.0045,  -9.7329,\n",
              "         -10.8256, -11.1573, -10.9969, -10.1537, -11.7148, -10.4393, -10.0457,\n",
              "          -9.5154, -10.3393, -11.1337, -11.2132, -10.6031, -10.6171,  -9.9654,\n",
              "         -10.8855, -10.8607, -10.2859, -10.3977, -10.0613, -10.8958,  -8.9154,\n",
              "         -10.0099, -11.0398, -11.1266, -10.3692, -10.9305, -10.7355, -10.7680,\n",
              "         -10.6131, -11.3413, -11.0807, -10.5832, -11.4765, -11.0102, -11.1487,\n",
              "          -9.4741, -11.3131, -11.3831, -10.1499,  -8.8026,  -9.8782, -10.2924,\n",
              "         -11.2721, -10.7637, -10.0475,  -9.4250,   0.4300,  -1.4319,  -6.8755,\n",
              "          -6.6131,  -8.5558,  -8.5463,  -7.5936, -10.0831, -10.4967,  -8.0951,\n",
              "         -10.5235, -10.2498,  -8.7156,  -8.7834, -10.2166,  -5.4794,  -4.7773,\n",
              "          -8.1011,  -6.5816,  -8.6970,  -7.7294,  -7.4142,  -8.5919,  -6.7687,\n",
              "          -7.3252,  -7.8707, -10.0673,  -7.6365,  -9.8580,  -9.6902, -10.7651,\n",
              "          -9.0910,  -5.2914, -10.8723,  -9.9249, -10.1679, -10.1487, -11.4788,\n",
              "         -11.7280, -12.4098,  -7.3504,  -9.1572,  -9.2087,  -8.5854,  -8.9355,\n",
              "          -9.1996, -10.8581,  -1.8113,  -6.1373,  -6.0532,  -7.5425,  -6.8150,\n",
              "          -0.6655,  -1.8169,  -1.4128,  -5.8041,   0.2643,  -1.2275,  -7.2777,\n",
              "          -7.7061,  -8.2559,  -8.2045,  -8.4547,  -7.9104,  -8.4694,  -9.8173,\n",
              "         -12.0253, -10.9005, -10.6103, -11.9745,  -9.4159,  -9.0896,  -8.8592,\n",
              "          -9.5125,  -8.1735, -10.2054,  -7.6791,  -8.1452, -10.6568,  -9.0703,\n",
              "          -9.3679, -11.0343,  -9.0656,  -8.3357,  -9.1140,  -9.4543,  -9.1140,\n",
              "          -8.8625,  -9.4616,  -8.1090,  -8.2514, -11.0697,  -7.6292,  -9.9742,\n",
              "          -8.8073,  -9.2797,  -7.9875,  -7.9516,  -7.4070, -10.1921,  -1.9498,\n",
              "          -6.1480,  -6.6403,  -9.2608,  -8.2486,  -8.2451,  -9.9719,  -8.3496,\n",
              "          -9.3053,  -6.4909,  -8.6586,  -9.4429, -11.3152,  -8.1062,  -8.0532,\n",
              "          -9.8256,  -7.0520,  -9.9942, -10.9314, -10.3782, -10.9846,  -8.1131,\n",
              "          -9.3158,  -9.2393,  -9.0825, -11.2661, -10.4387,  -7.9818,  -7.6349,\n",
              "          -9.6584,  -4.9590,  -4.2996,  -9.2699,  -4.3060,  -7.6594,  -6.6592,\n",
              "          -8.0987,  -9.0688,  -5.8876,  -8.4456,  -8.3315,  -4.3573,  -5.8473,\n",
              "          -6.6354,  -8.5419,  -3.6139,  -9.8581,  -9.6094,  -9.6056, -10.2131,\n",
              "         -10.0596,  -9.7069,  -9.9575, -10.3185,  -9.9919, -10.0574, -10.4357,\n",
              "          -9.9153, -10.0350, -10.4551, -10.0486, -10.9560, -11.2392,  -6.1035,\n",
              "          -8.3096,  -9.8094, -10.6017,  -9.4351,  -9.3881,  -8.8800,  -7.3255,\n",
              "          -9.5954, -10.0896, -11.8437, -11.9944, -11.1438, -11.3778,  -9.4987,\n",
              "         -10.0680,  -9.5604, -10.9194, -10.8022, -10.8105, -11.7541,  -8.4908,\n",
              "         -10.3638, -10.6319, -11.1494, -10.3253,  -9.7755,  -9.7374,  -8.4655,\n",
              "          -8.2878, -11.1102,  -9.7361,  -8.3484, -10.6815, -10.0333,  -8.7086,\n",
              "          -9.7731, -10.5014,  -9.5137, -10.5344,  -8.6966, -10.2862, -11.9116,\n",
              "          -8.8287, -10.7487, -10.9666, -10.5173, -11.3691,  -9.9821,  -9.7356,\n",
              "         -10.7288, -10.8355,  -9.8492,  -9.3838, -10.5110, -11.7532, -10.4866,\n",
              "         -11.1524, -10.6830, -11.6753,  -9.2969, -11.2406, -10.9046, -12.9853,\n",
              "         -10.7980, -12.0079, -11.0965, -11.2718,  -8.5802, -11.3292, -11.1634,\n",
              "         -11.5378, -10.6431, -10.9956, -11.7193, -11.3479, -11.7661, -11.1956,\n",
              "         -10.2958, -10.9797, -11.4412, -12.1931, -11.3892, -11.9881, -10.2856,\n",
              "         -11.5581,  -9.8520,  -9.9037, -10.8921, -10.9863, -11.2686, -10.0095,\n",
              "         -11.4514, -10.3062, -10.2749, -10.9382,  -9.3200,  -9.6347, -11.1500,\n",
              "         -11.2691, -11.3676,  -7.6472, -11.2387, -11.3087,  -9.0157, -10.5773,\n",
              "         -11.0835,  -9.8965,  -9.5430, -10.5482, -12.2448, -10.7935, -10.5800,\n",
              "          -9.7354, -11.6099,  -9.8166, -11.4525, -10.3505,  -9.7880,  -9.6779,\n",
              "         -11.3579, -11.7079, -11.6343, -11.8440, -10.5128, -11.4875,  -9.7587,\n",
              "          -8.7508, -10.0785, -10.9720,  -9.8802, -11.5815, -11.2129, -11.5732,\n",
              "          -8.9675, -10.0057, -10.0783, -10.0697, -11.3742, -13.4724, -12.2799,\n",
              "          -9.9220, -10.2079, -10.7791, -10.3969, -12.2077, -11.6577, -10.6070,\n",
              "         -11.1305, -11.1907, -11.2188, -10.7186, -11.0600,  -9.8152, -11.9005,\n",
              "         -12.3758, -11.8247,  -8.5625, -11.5660,  -8.5471,  -9.4409,  -9.7389,\n",
              "          -9.8128,  -9.8606, -10.2806, -11.4655,  -9.1085, -10.7802,  -9.9842,\n",
              "         -10.8448, -10.4663, -10.6041, -11.9202,  -9.8174, -12.0070, -11.2889,\n",
              "         -10.8205,  -9.5464, -11.4868, -12.3960, -11.6334,  -9.4803,  -9.7509,\n",
              "          -9.8122, -11.0075, -12.3329, -12.5127,  -9.1825, -10.2188,  -9.4983,\n",
              "         -11.3231, -10.9226, -10.5472,  -6.2590, -11.8984,  -9.9241,  -8.3434,\n",
              "          -9.9370, -12.2206, -10.4559,  -7.5244,  -9.7453,  -7.5909, -10.0599,\n",
              "          -7.2087,  -9.3882,  -6.8283,  -6.1235,  -8.0279,  -7.0175,  -6.9616,\n",
              "          -8.9820,  -7.8229, -11.0230, -11.1495, -10.1394,  -9.0847, -10.3326,\n",
              "         -10.7166,  -9.7585,  -8.9684, -10.1934,  -8.1415,  -9.4875,  -8.7257,\n",
              "         -10.2586,  -8.4603]], grad_fn=<AddmmBackward0>)"
            ]
          },
          "metadata": {},
          "execution_count": 17
        }
      ]
    },
    {
      "cell_type": "code",
      "source": [
        "predicted_class_ids = prediction_logits.argmax(-1).item()\n",
        "predicted_class_ids"
      ],
      "metadata": {
        "colab": {
          "base_uri": "https://localhost:8080/"
        },
        "id": "7Xmlm6I_es-k",
        "outputId": "c770b3af-c9d9-4b37-a234-dab1c6fceb6c"
      },
      "execution_count": 18,
      "outputs": [
        {
          "output_type": "execute_result",
          "data": {
            "text/plain": [
              "137"
            ]
          },
          "metadata": {},
          "execution_count": 18
        }
      ]
    },
    {
      "cell_type": "code",
      "source": [
        "model.config.id2label[predicted_class_ids]"
      ],
      "metadata": {
        "colab": {
          "base_uri": "https://localhost:8080/",
          "height": 35
        },
        "id": "CGoZ-Ztke24n",
        "outputId": "94112b4a-1b73-43f0-c3ca-1de8d642f226"
      },
      "execution_count": 20,
      "outputs": [
        {
          "output_type": "execute_result",
          "data": {
            "text/plain": [
              "'Music'"
            ],
            "application/vnd.google.colaboratory.intrinsic+json": {
              "type": "string"
            }
          },
          "metadata": {},
          "execution_count": 20
        }
      ]
    },
    {
      "cell_type": "markdown",
      "source": [
        "### Using pipeline"
      ],
      "metadata": {
        "id": "o21wiGpWfKnx"
      }
    },
    {
      "cell_type": "code",
      "source": [
        "from transformers import pipeline"
      ],
      "metadata": {
        "id": "L5BhzlQOe6gf"
      },
      "execution_count": 21,
      "outputs": []
    },
    {
      "cell_type": "code",
      "source": [
        "pipe = pipeline(\"audio-classification\", model=\"MIT/ast-finetuned-audioset-10-10-0.4593\")"
      ],
      "metadata": {
        "id": "9roopzccfFHj"
      },
      "execution_count": 22,
      "outputs": []
    },
    {
      "cell_type": "code",
      "source": [
        "pipe(audio_path)"
      ],
      "metadata": {
        "colab": {
          "base_uri": "https://localhost:8080/"
        },
        "id": "uqC3B9jZfOax",
        "outputId": "1da73625-0778-434a-baca-43ed412b945a"
      },
      "execution_count": 23,
      "outputs": [
        {
          "output_type": "stream",
          "name": "stderr",
          "text": [
            "/usr/local/lib/python3.10/dist-packages/transformers/models/audio_spectrogram_transformer/feature_extraction_audio_spectrogram_transformer.py:118: UserWarning: The given NumPy array is not writable, and PyTorch does not support non-writable tensors. This means writing to this tensor will result in undefined behavior. You may want to copy the array to protect its data or make it writable before converting it to a tensor. This type of warning will be suppressed for the rest of this program. (Triggered internally at ../torch/csrc/utils/tensor_numpy.cpp:206.)\n",
            "  waveform = torch.from_numpy(waveform).unsqueeze(0)\n"
          ]
        },
        {
          "output_type": "execute_result",
          "data": {
            "text/plain": [
              "[{'score': 0.48486781120300293, 'label': 'Music'},\n",
              " {'score': 0.19131098687648773, 'label': 'Violin, fiddle'},\n",
              " {'score': 0.08519725501537323, 'label': 'Musical instrument'},\n",
              " {'score': 0.04692428186535835, 'label': 'Bowed string instrument'},\n",
              " {'score': 0.045360978692770004, 'label': 'Orchestra'}]"
            ]
          },
          "metadata": {},
          "execution_count": 23
        }
      ]
    },
    {
      "cell_type": "code",
      "source": [],
      "metadata": {
        "id": "46_h69ldfQAB"
      },
      "execution_count": null,
      "outputs": []
    }
  ]
}